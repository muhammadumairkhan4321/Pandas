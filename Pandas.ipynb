{
 "cells": [
  {
   "cell_type": "markdown",
   "id": "e1bce64d",
   "metadata": {},
   "source": [
    "## **Setting Up Pandas in Your Environment**"
   ]
  },
  {
   "cell_type": "markdown",
   "id": "7647349b",
   "metadata": {},
   "source": [
    "**1.Python installation**\n"
   ]
  },
  {
   "cell_type": "markdown",
   "id": "1a706918",
   "metadata": {},
   "source": [
    "**2.pip**"
   ]
  },
  {
   "cell_type": "markdown",
   "id": "72cbb869",
   "metadata": {},
   "source": [
    "- pip install pasdas"
   ]
  },
  {
   "cell_type": "code",
   "execution_count": 1,
   "id": "c68ed160",
   "metadata": {},
   "outputs": [
    {
     "name": "stdout",
     "output_type": "stream",
     "text": [
      "Requirement already satisfied: pandas in c:\\users\\lenovo\\appdata\\local\\programs\\python\\python313\\lib\\site-packages (2.3.1)\n",
      "Requirement already satisfied: numpy>=1.26.0 in c:\\users\\lenovo\\appdata\\local\\programs\\python\\python313\\lib\\site-packages (from pandas) (2.2.6)\n",
      "Requirement already satisfied: python-dateutil>=2.8.2 in c:\\users\\lenovo\\appdata\\roaming\\python\\python313\\site-packages (from pandas) (2.9.0.post0)\n",
      "Requirement already satisfied: pytz>=2020.1 in c:\\users\\lenovo\\appdata\\local\\programs\\python\\python313\\lib\\site-packages (from pandas) (2025.2)\n",
      "Requirement already satisfied: tzdata>=2022.7 in c:\\users\\lenovo\\appdata\\local\\programs\\python\\python313\\lib\\site-packages (from pandas) (2025.2)\n",
      "Requirement already satisfied: six>=1.5 in c:\\users\\lenovo\\appdata\\roaming\\python\\python313\\site-packages (from python-dateutil>=2.8.2->pandas) (1.17.0)\n",
      "Note: you may need to restart the kernel to use updated packages.\n"
     ]
    }
   ],
   "source": [
    "pip install pandas"
   ]
  },
  {
   "cell_type": "markdown",
   "id": "216c3cc4",
   "metadata": {},
   "source": [
    "## **Verify installation**"
   ]
  },
  {
   "cell_type": "code",
   "execution_count": 2,
   "id": "bc28f892",
   "metadata": {},
   "outputs": [],
   "source": [
    "import pandas as pd"
   ]
  },
  {
   "cell_type": "code",
   "execution_count": 3,
   "id": "15eb9aa2",
   "metadata": {},
   "outputs": [
    {
     "name": "stdout",
     "output_type": "stream",
     "text": [
      "2.3.1\n"
     ]
    }
   ],
   "source": [
    "print(pd.__version__)"
   ]
  },
  {
   "cell_type": "markdown",
   "id": "d13ff7bf",
   "metadata": {},
   "source": [
    "## **Creating a Series**"
   ]
  },
  {
   "cell_type": "markdown",
   "id": "3c97af45",
   "metadata": {},
   "source": [
    "- index set automatically"
   ]
  },
  {
   "cell_type": "code",
   "execution_count": 4,
   "id": "ae0e874b",
   "metadata": {},
   "outputs": [
    {
     "name": "stdout",
     "output_type": "stream",
     "text": [
      "0    10\n",
      "1    20\n",
      "2    30\n",
      "3    40\n",
      "dtype: int64\n"
     ]
    }
   ],
   "source": [
    "import pandas as pd\n",
    "s =pd.Series([10,20,30,40])\n",
    "print(s)"
   ]
  },
  {
   "cell_type": "markdown",
   "id": "b94af8d7",
   "metadata": {},
   "source": [
    "- we set index"
   ]
  },
  {
   "cell_type": "code",
   "execution_count": 5,
   "id": "5a4e6a56",
   "metadata": {},
   "outputs": [
    {
     "name": "stdout",
     "output_type": "stream",
     "text": [
      "a    10\n",
      "b    20\n",
      "c    30\n",
      "d    40\n",
      "dtype: int64\n"
     ]
    }
   ],
   "source": [
    "S_index =pd.Series([10,20,30,40], index=[\"a\",\"b\",\"c\",\"d\"])\n",
    "print(S_index)"
   ]
  },
  {
   "cell_type": "code",
   "execution_count": 6,
   "id": "8042746c",
   "metadata": {},
   "outputs": [
    {
     "name": "stdout",
     "output_type": "stream",
     "text": [
      "a    20\n",
      "c    40\n",
      "b    15\n",
      "dtype: int64\n"
     ]
    }
   ],
   "source": [
    "data = [20,40,15]\n",
    "labels =[\"a\",\"c\",\"b\"]\n",
    "series =pd.Series(data, index=labels)\n",
    "print(series)"
   ]
  },
  {
   "cell_type": "markdown",
   "id": "fc9155f0",
   "metadata": {},
   "source": [
    "- index in squence"
   ]
  },
  {
   "cell_type": "code",
   "execution_count": 7,
   "id": "1c8718bd",
   "metadata": {},
   "outputs": [
    {
     "data": {
      "text/plain": [
       "a    20\n",
       "b    15\n",
       "c    40\n",
       "dtype: int64"
      ]
     },
     "execution_count": 7,
     "metadata": {},
     "output_type": "execute_result"
    }
   ],
   "source": [
    "series.sort_index()"
   ]
  },
  {
   "cell_type": "markdown",
   "id": "5a297e4d",
   "metadata": {},
   "source": [
    "- value in squence"
   ]
  },
  {
   "cell_type": "code",
   "execution_count": 8,
   "id": "a266e844",
   "metadata": {},
   "outputs": [
    {
     "data": {
      "text/plain": [
       "b    15\n",
       "a    20\n",
       "c    40\n",
       "dtype: int64"
      ]
     },
     "execution_count": 8,
     "metadata": {},
     "output_type": "execute_result"
    }
   ],
   "source": [
    "series.sort_values()"
   ]
  },
  {
   "cell_type": "markdown",
   "id": "b33457d8",
   "metadata": {},
   "source": [
    "- print two Series"
   ]
  },
  {
   "cell_type": "code",
   "execution_count": 9,
   "id": "9f076cc5",
   "metadata": {},
   "outputs": [
    {
     "name": "stdout",
     "output_type": "stream",
     "text": [
      "0    10\n",
      "1    20\n",
      "2    30\n",
      "3    40\n",
      "dtype: int64\n",
      "a    50\n",
      "b    60\n",
      "c    70\n",
      "d    80\n",
      "dtype: int64\n"
     ]
    }
   ],
   "source": [
    "series1 =pd.Series([10,20,30,40])\n",
    "series2 =pd.Series([50,60,70,80], index=[\"a\",\"b\",\"c\",\"d\"])\n",
    "print(series1)\n",
    "print(series2)"
   ]
  },
  {
   "cell_type": "markdown",
   "id": "647d7c2c",
   "metadata": {},
   "source": [
    "- indexing value"
   ]
  },
  {
   "cell_type": "code",
   "execution_count": 10,
   "id": "35fe419e",
   "metadata": {},
   "outputs": [
    {
     "name": "stdout",
     "output_type": "stream",
     "text": [
      "30\n",
      "70\n"
     ]
    }
   ],
   "source": [
    "print(series1[2])\n",
    "print(series2[\"c\"])"
   ]
  },
  {
   "cell_type": "markdown",
   "id": "0506925d",
   "metadata": {},
   "source": [
    "## **Creating Data Frame**"
   ]
  },
  {
   "cell_type": "code",
   "execution_count": 11,
   "id": "03ac0977",
   "metadata": {},
   "outputs": [
    {
     "name": "stdout",
     "output_type": "stream",
     "text": [
      "    Name   Roll No  Salary\n",
      "0    Ali        15      20\n",
      "1   Umair       20      15\n",
      "2  Khalil       24      43\n"
     ]
    }
   ],
   "source": [
    "import pandas as np\n",
    "data = pd.DataFrame({\n",
    "    \"Name \" : [\"Ali \",\"Umair\",\"Khalil\"],\n",
    "    \"Roll No\":[15,20,24],\n",
    "    \"Salary\":[20,15,43]\n",
    "\n",
    "})\n",
    "print(data)"
   ]
  },
  {
   "cell_type": "code",
   "execution_count": 12,
   "id": "050a267c",
   "metadata": {},
   "outputs": [
    {
     "name": "stdout",
     "output_type": "stream",
     "text": [
      "    Name   Roll No  Salary\n",
      "a    Ali        15      20\n",
      "b   Umair       20      15\n",
      "c  Khalil       24      43\n",
      "d    Musa       12      52\n",
      "e   Noman       51      14\n",
      "f   Sajad       60      17\n"
     ]
    }
   ],
   "source": [
    "import pandas as np\n",
    "data = pd.DataFrame({\n",
    "    \"Name \" : [\"Ali \",\"Umair\",\"Khalil\",\"Musa\",\"Noman\",\"Sajad\"],\n",
    "    \"Roll No\":[15,20,24,12,51,60],\n",
    "    \"Salary\":[20,15,43,52,14,17]\n",
    "\n",
    "}, index =[\"a\",\"b\",\"c\",\"d\",\"e\",\"f\"])\n",
    "print(data)\n"
   ]
  },
  {
   "cell_type": "code",
   "execution_count": 13,
   "id": "86a9caf2",
   "metadata": {},
   "outputs": [
    {
     "data": {
      "text/html": [
       "<div>\n",
       "<style scoped>\n",
       "    .dataframe tbody tr th:only-of-type {\n",
       "        vertical-align: middle;\n",
       "    }\n",
       "\n",
       "    .dataframe tbody tr th {\n",
       "        vertical-align: top;\n",
       "    }\n",
       "\n",
       "    .dataframe thead th {\n",
       "        text-align: right;\n",
       "    }\n",
       "</style>\n",
       "<table border=\"1\" class=\"dataframe\">\n",
       "  <thead>\n",
       "    <tr style=\"text-align: right;\">\n",
       "      <th></th>\n",
       "      <th>Name</th>\n",
       "      <th>Roll No</th>\n",
       "      <th>Salary</th>\n",
       "    </tr>\n",
       "  </thead>\n",
       "  <tbody>\n",
       "    <tr>\n",
       "      <th>a</th>\n",
       "      <td>Ali</td>\n",
       "      <td>15</td>\n",
       "      <td>20</td>\n",
       "    </tr>\n",
       "    <tr>\n",
       "      <th>b</th>\n",
       "      <td>Umair</td>\n",
       "      <td>20</td>\n",
       "      <td>15</td>\n",
       "    </tr>\n",
       "    <tr>\n",
       "      <th>c</th>\n",
       "      <td>Khalil</td>\n",
       "      <td>24</td>\n",
       "      <td>43</td>\n",
       "    </tr>\n",
       "    <tr>\n",
       "      <th>d</th>\n",
       "      <td>Musa</td>\n",
       "      <td>12</td>\n",
       "      <td>52</td>\n",
       "    </tr>\n",
       "    <tr>\n",
       "      <th>e</th>\n",
       "      <td>Noman</td>\n",
       "      <td>51</td>\n",
       "      <td>14</td>\n",
       "    </tr>\n",
       "  </tbody>\n",
       "</table>\n",
       "</div>"
      ],
      "text/plain": [
       "    Name   Roll No  Salary\n",
       "a    Ali        15      20\n",
       "b   Umair       20      15\n",
       "c  Khalil       24      43\n",
       "d    Musa       12      52\n",
       "e   Noman       51      14"
      ]
     },
     "execution_count": 13,
     "metadata": {},
     "output_type": "execute_result"
    }
   ],
   "source": [
    "data.head()  # when bracket is empty show first five values"
   ]
  },
  {
   "cell_type": "code",
   "execution_count": 14,
   "id": "60004ba9",
   "metadata": {},
   "outputs": [
    {
     "data": {
      "text/html": [
       "<div>\n",
       "<style scoped>\n",
       "    .dataframe tbody tr th:only-of-type {\n",
       "        vertical-align: middle;\n",
       "    }\n",
       "\n",
       "    .dataframe tbody tr th {\n",
       "        vertical-align: top;\n",
       "    }\n",
       "\n",
       "    .dataframe thead th {\n",
       "        text-align: right;\n",
       "    }\n",
       "</style>\n",
       "<table border=\"1\" class=\"dataframe\">\n",
       "  <thead>\n",
       "    <tr style=\"text-align: right;\">\n",
       "      <th></th>\n",
       "      <th>Name</th>\n",
       "      <th>Roll No</th>\n",
       "      <th>Salary</th>\n",
       "    </tr>\n",
       "  </thead>\n",
       "  <tbody>\n",
       "    <tr>\n",
       "      <th>a</th>\n",
       "      <td>Ali</td>\n",
       "      <td>15</td>\n",
       "      <td>20</td>\n",
       "    </tr>\n",
       "  </tbody>\n",
       "</table>\n",
       "</div>"
      ],
      "text/plain": [
       "  Name   Roll No  Salary\n",
       "a  Ali        15      20"
      ]
     },
     "execution_count": 14,
     "metadata": {},
     "output_type": "execute_result"
    }
   ],
   "source": [
    "data.head(1)"
   ]
  },
  {
   "cell_type": "code",
   "execution_count": 15,
   "id": "763f279a",
   "metadata": {},
   "outputs": [
    {
     "data": {
      "text/html": [
       "<div>\n",
       "<style scoped>\n",
       "    .dataframe tbody tr th:only-of-type {\n",
       "        vertical-align: middle;\n",
       "    }\n",
       "\n",
       "    .dataframe tbody tr th {\n",
       "        vertical-align: top;\n",
       "    }\n",
       "\n",
       "    .dataframe thead th {\n",
       "        text-align: right;\n",
       "    }\n",
       "</style>\n",
       "<table border=\"1\" class=\"dataframe\">\n",
       "  <thead>\n",
       "    <tr style=\"text-align: right;\">\n",
       "      <th></th>\n",
       "      <th>Name</th>\n",
       "      <th>Roll No</th>\n",
       "      <th>Salary</th>\n",
       "    </tr>\n",
       "  </thead>\n",
       "  <tbody>\n",
       "    <tr>\n",
       "      <th>b</th>\n",
       "      <td>Umair</td>\n",
       "      <td>20</td>\n",
       "      <td>15</td>\n",
       "    </tr>\n",
       "    <tr>\n",
       "      <th>c</th>\n",
       "      <td>Khalil</td>\n",
       "      <td>24</td>\n",
       "      <td>43</td>\n",
       "    </tr>\n",
       "    <tr>\n",
       "      <th>d</th>\n",
       "      <td>Musa</td>\n",
       "      <td>12</td>\n",
       "      <td>52</td>\n",
       "    </tr>\n",
       "    <tr>\n",
       "      <th>e</th>\n",
       "      <td>Noman</td>\n",
       "      <td>51</td>\n",
       "      <td>14</td>\n",
       "    </tr>\n",
       "    <tr>\n",
       "      <th>f</th>\n",
       "      <td>Sajad</td>\n",
       "      <td>60</td>\n",
       "      <td>17</td>\n",
       "    </tr>\n",
       "  </tbody>\n",
       "</table>\n",
       "</div>"
      ],
      "text/plain": [
       "    Name   Roll No  Salary\n",
       "b   Umair       20      15\n",
       "c  Khalil       24      43\n",
       "d    Musa       12      52\n",
       "e   Noman       51      14\n",
       "f   Sajad       60      17"
      ]
     },
     "execution_count": 15,
     "metadata": {},
     "output_type": "execute_result"
    }
   ],
   "source": [
    "data.tail() # show last five"
   ]
  },
  {
   "cell_type": "code",
   "execution_count": 16,
   "id": "483c9d75",
   "metadata": {},
   "outputs": [
    {
     "data": {
      "text/html": [
       "<div>\n",
       "<style scoped>\n",
       "    .dataframe tbody tr th:only-of-type {\n",
       "        vertical-align: middle;\n",
       "    }\n",
       "\n",
       "    .dataframe tbody tr th {\n",
       "        vertical-align: top;\n",
       "    }\n",
       "\n",
       "    .dataframe thead th {\n",
       "        text-align: right;\n",
       "    }\n",
       "</style>\n",
       "<table border=\"1\" class=\"dataframe\">\n",
       "  <thead>\n",
       "    <tr style=\"text-align: right;\">\n",
       "      <th></th>\n",
       "      <th>Name</th>\n",
       "      <th>Roll No</th>\n",
       "      <th>Salary</th>\n",
       "    </tr>\n",
       "  </thead>\n",
       "  <tbody>\n",
       "    <tr>\n",
       "      <th>d</th>\n",
       "      <td>Musa</td>\n",
       "      <td>12</td>\n",
       "      <td>52</td>\n",
       "    </tr>\n",
       "    <tr>\n",
       "      <th>e</th>\n",
       "      <td>Noman</td>\n",
       "      <td>51</td>\n",
       "      <td>14</td>\n",
       "    </tr>\n",
       "    <tr>\n",
       "      <th>f</th>\n",
       "      <td>Sajad</td>\n",
       "      <td>60</td>\n",
       "      <td>17</td>\n",
       "    </tr>\n",
       "  </tbody>\n",
       "</table>\n",
       "</div>"
      ],
      "text/plain": [
       "   Name   Roll No  Salary\n",
       "d   Musa       12      52\n",
       "e  Noman       51      14\n",
       "f  Sajad       60      17"
      ]
     },
     "execution_count": 16,
     "metadata": {},
     "output_type": "execute_result"
    }
   ],
   "source": [
    "data.tail(3) # show last three "
   ]
  },
  {
   "cell_type": "code",
   "execution_count": 17,
   "id": "cb84a4a0",
   "metadata": {},
   "outputs": [
    {
     "data": {
      "text/plain": [
       "(6, 3)"
      ]
     },
     "execution_count": 17,
     "metadata": {},
     "output_type": "execute_result"
    }
   ],
   "source": [
    "data.shape # rows,coloums"
   ]
  },
  {
   "cell_type": "code",
   "execution_count": 18,
   "id": "b5fa0bc6",
   "metadata": {},
   "outputs": [
    {
     "data": {
      "text/plain": [
       "Index(['Name ', 'Roll No', 'Salary'], dtype='object')"
      ]
     },
     "execution_count": 18,
     "metadata": {},
     "output_type": "execute_result"
    }
   ],
   "source": [
    "data.columns"
   ]
  },
  {
   "cell_type": "code",
   "execution_count": 19,
   "id": "c79e1fec",
   "metadata": {},
   "outputs": [
    {
     "data": {
      "text/plain": [
       "['Name ', 'Roll No', 'Salary']"
      ]
     },
     "execution_count": 19,
     "metadata": {},
     "output_type": "execute_result"
    }
   ],
   "source": [
    "data.columns.tolist()"
   ]
  },
  {
   "cell_type": "code",
   "execution_count": 20,
   "id": "a81a70dd",
   "metadata": {},
   "outputs": [
    {
     "data": {
      "text/plain": [
       "Index(['a', 'b', 'c', 'd', 'e', 'f'], dtype='object')"
      ]
     },
     "execution_count": 20,
     "metadata": {},
     "output_type": "execute_result"
    }
   ],
   "source": [
    "data.index # index"
   ]
  },
  {
   "cell_type": "code",
   "execution_count": 21,
   "id": "335dbf21",
   "metadata": {},
   "outputs": [
    {
     "data": {
      "text/plain": [
       "Name       object\n",
       "Roll No     int64\n",
       "Salary      int64\n",
       "dtype: object"
      ]
     },
     "execution_count": 21,
     "metadata": {},
     "output_type": "execute_result"
    }
   ],
   "source": [
    "data.dtypes"
   ]
  },
  {
   "cell_type": "code",
   "execution_count": 22,
   "id": "6234aad5",
   "metadata": {},
   "outputs": [
    {
     "data": {
      "text/plain": [
       "<bound method DataFrame.info of     Name   Roll No  Salary\n",
       "a    Ali        15      20\n",
       "b   Umair       20      15\n",
       "c  Khalil       24      43\n",
       "d    Musa       12      52\n",
       "e   Noman       51      14\n",
       "f   Sajad       60      17>"
      ]
     },
     "execution_count": 22,
     "metadata": {},
     "output_type": "execute_result"
    }
   ],
   "source": [
    "data.info"
   ]
  },
  {
   "cell_type": "code",
   "execution_count": 23,
   "id": "d46646a5",
   "metadata": {},
   "outputs": [
    {
     "data": {
      "text/html": [
       "<div>\n",
       "<style scoped>\n",
       "    .dataframe tbody tr th:only-of-type {\n",
       "        vertical-align: middle;\n",
       "    }\n",
       "\n",
       "    .dataframe tbody tr th {\n",
       "        vertical-align: top;\n",
       "    }\n",
       "\n",
       "    .dataframe thead th {\n",
       "        text-align: right;\n",
       "    }\n",
       "</style>\n",
       "<table border=\"1\" class=\"dataframe\">\n",
       "  <thead>\n",
       "    <tr style=\"text-align: right;\">\n",
       "      <th></th>\n",
       "      <th>Name</th>\n",
       "      <th>Roll No</th>\n",
       "      <th>Salary</th>\n",
       "    </tr>\n",
       "  </thead>\n",
       "  <tbody>\n",
       "    <tr>\n",
       "      <th>a</th>\n",
       "      <td>Ali</td>\n",
       "      <td>15</td>\n",
       "      <td>20</td>\n",
       "    </tr>\n",
       "    <tr>\n",
       "      <th>b</th>\n",
       "      <td>Umair</td>\n",
       "      <td>20</td>\n",
       "      <td>15</td>\n",
       "    </tr>\n",
       "    <tr>\n",
       "      <th>c</th>\n",
       "      <td>Khalil</td>\n",
       "      <td>24</td>\n",
       "      <td>43</td>\n",
       "    </tr>\n",
       "    <tr>\n",
       "      <th>d</th>\n",
       "      <td>Musa</td>\n",
       "      <td>12</td>\n",
       "      <td>52</td>\n",
       "    </tr>\n",
       "    <tr>\n",
       "      <th>e</th>\n",
       "      <td>Noman</td>\n",
       "      <td>51</td>\n",
       "      <td>14</td>\n",
       "    </tr>\n",
       "    <tr>\n",
       "      <th>f</th>\n",
       "      <td>Sajad</td>\n",
       "      <td>60</td>\n",
       "      <td>17</td>\n",
       "    </tr>\n",
       "  </tbody>\n",
       "</table>\n",
       "</div>"
      ],
      "text/plain": [
       "    Name   Roll No  Salary\n",
       "a    Ali        15      20\n",
       "b   Umair       20      15\n",
       "c  Khalil       24      43\n",
       "d    Musa       12      52\n",
       "e   Noman       51      14\n",
       "f   Sajad       60      17"
      ]
     },
     "execution_count": 23,
     "metadata": {},
     "output_type": "execute_result"
    }
   ],
   "source": [
    "data"
   ]
  },
  {
   "cell_type": "code",
   "execution_count": 24,
   "id": "09e0d294",
   "metadata": {},
   "outputs": [
    {
     "data": {
      "text/html": [
       "<div>\n",
       "<style scoped>\n",
       "    .dataframe tbody tr th:only-of-type {\n",
       "        vertical-align: middle;\n",
       "    }\n",
       "\n",
       "    .dataframe tbody tr th {\n",
       "        vertical-align: top;\n",
       "    }\n",
       "\n",
       "    .dataframe thead th {\n",
       "        text-align: right;\n",
       "    }\n",
       "</style>\n",
       "<table border=\"1\" class=\"dataframe\">\n",
       "  <thead>\n",
       "    <tr style=\"text-align: right;\">\n",
       "      <th></th>\n",
       "      <th>Roll No</th>\n",
       "      <th>Salary</th>\n",
       "    </tr>\n",
       "  </thead>\n",
       "  <tbody>\n",
       "    <tr>\n",
       "      <th>count</th>\n",
       "      <td>6.000000</td>\n",
       "      <td>6.000000</td>\n",
       "    </tr>\n",
       "    <tr>\n",
       "      <th>mean</th>\n",
       "      <td>30.333333</td>\n",
       "      <td>26.833333</td>\n",
       "    </tr>\n",
       "    <tr>\n",
       "      <th>std</th>\n",
       "      <td>20.126268</td>\n",
       "      <td>16.388004</td>\n",
       "    </tr>\n",
       "    <tr>\n",
       "      <th>min</th>\n",
       "      <td>12.000000</td>\n",
       "      <td>14.000000</td>\n",
       "    </tr>\n",
       "    <tr>\n",
       "      <th>25%</th>\n",
       "      <td>16.250000</td>\n",
       "      <td>15.500000</td>\n",
       "    </tr>\n",
       "    <tr>\n",
       "      <th>50%</th>\n",
       "      <td>22.000000</td>\n",
       "      <td>18.500000</td>\n",
       "    </tr>\n",
       "    <tr>\n",
       "      <th>75%</th>\n",
       "      <td>44.250000</td>\n",
       "      <td>37.250000</td>\n",
       "    </tr>\n",
       "    <tr>\n",
       "      <th>max</th>\n",
       "      <td>60.000000</td>\n",
       "      <td>52.000000</td>\n",
       "    </tr>\n",
       "  </tbody>\n",
       "</table>\n",
       "</div>"
      ],
      "text/plain": [
       "         Roll No     Salary\n",
       "count   6.000000   6.000000\n",
       "mean   30.333333  26.833333\n",
       "std    20.126268  16.388004\n",
       "min    12.000000  14.000000\n",
       "25%    16.250000  15.500000\n",
       "50%    22.000000  18.500000\n",
       "75%    44.250000  37.250000\n",
       "max    60.000000  52.000000"
      ]
     },
     "execution_count": 24,
     "metadata": {},
     "output_type": "execute_result"
    }
   ],
   "source": [
    "data.describe()"
   ]
  },
  {
   "cell_type": "code",
   "execution_count": 25,
   "id": "cffc9280",
   "metadata": {},
   "outputs": [
    {
     "data": {
      "text/html": [
       "<div>\n",
       "<style scoped>\n",
       "    .dataframe tbody tr th:only-of-type {\n",
       "        vertical-align: middle;\n",
       "    }\n",
       "\n",
       "    .dataframe tbody tr th {\n",
       "        vertical-align: top;\n",
       "    }\n",
       "\n",
       "    .dataframe thead th {\n",
       "        text-align: right;\n",
       "    }\n",
       "</style>\n",
       "<table border=\"1\" class=\"dataframe\">\n",
       "  <thead>\n",
       "    <tr style=\"text-align: right;\">\n",
       "      <th></th>\n",
       "      <th>Name</th>\n",
       "      <th>Roll No</th>\n",
       "      <th>Salary</th>\n",
       "    </tr>\n",
       "  </thead>\n",
       "  <tbody>\n",
       "    <tr>\n",
       "      <th>d</th>\n",
       "      <td>Musa</td>\n",
       "      <td>12</td>\n",
       "      <td>52</td>\n",
       "    </tr>\n",
       "  </tbody>\n",
       "</table>\n",
       "</div>"
      ],
      "text/plain": [
       "  Name   Roll No  Salary\n",
       "d  Musa       12      52"
      ]
     },
     "execution_count": 25,
     "metadata": {},
     "output_type": "execute_result"
    }
   ],
   "source": [
    "data.sample()"
   ]
  },
  {
   "cell_type": "code",
   "execution_count": 26,
   "id": "c39eebbe",
   "metadata": {},
   "outputs": [
    {
     "data": {
      "text/html": [
       "<div>\n",
       "<style scoped>\n",
       "    .dataframe tbody tr th:only-of-type {\n",
       "        vertical-align: middle;\n",
       "    }\n",
       "\n",
       "    .dataframe tbody tr th {\n",
       "        vertical-align: top;\n",
       "    }\n",
       "\n",
       "    .dataframe thead th {\n",
       "        text-align: right;\n",
       "    }\n",
       "</style>\n",
       "<table border=\"1\" class=\"dataframe\">\n",
       "  <thead>\n",
       "    <tr style=\"text-align: right;\">\n",
       "      <th></th>\n",
       "      <th>Name</th>\n",
       "      <th>Roll No</th>\n",
       "      <th>Salary</th>\n",
       "    </tr>\n",
       "  </thead>\n",
       "  <tbody>\n",
       "    <tr>\n",
       "      <th>c</th>\n",
       "      <td>Khalil</td>\n",
       "      <td>24</td>\n",
       "      <td>43</td>\n",
       "    </tr>\n",
       "    <tr>\n",
       "      <th>e</th>\n",
       "      <td>Noman</td>\n",
       "      <td>51</td>\n",
       "      <td>14</td>\n",
       "    </tr>\n",
       "  </tbody>\n",
       "</table>\n",
       "</div>"
      ],
      "text/plain": [
       "    Name   Roll No  Salary\n",
       "c  Khalil       24      43\n",
       "e   Noman       51      14"
      ]
     },
     "execution_count": 26,
     "metadata": {},
     "output_type": "execute_result"
    }
   ],
   "source": [
    "data.sample(2)"
   ]
  },
  {
   "cell_type": "code",
   "execution_count": 27,
   "id": "34b84ac7",
   "metadata": {},
   "outputs": [
    {
     "data": {
      "text/plain": [
       "'    Name   Roll No  Salary\\na    Ali        15      20\\nb   Umair       20      15\\nc  Khalil       24      43\\nd    Musa       12      52\\ne   Noman       51      14\\nf   Sajad       60      17'"
      ]
     },
     "execution_count": 27,
     "metadata": {},
     "output_type": "execute_result"
    }
   ],
   "source": [
    "data.to_string()\n"
   ]
  },
  {
   "cell_type": "markdown",
   "id": "48ec6b15",
   "metadata": {},
   "source": [
    "## **Data Selection & indexing**"
   ]
  },
  {
   "cell_type": "markdown",
   "id": "8fc00f9a",
   "metadata": {},
   "source": [
    "### **Selecting Columns**"
   ]
  },
  {
   "cell_type": "markdown",
   "id": "1edba4bc",
   "metadata": {},
   "source": [
    "#### **single column(Series)**"
   ]
  },
  {
   "cell_type": "code",
   "execution_count": 28,
   "id": "f8042e8a",
   "metadata": {},
   "outputs": [
    {
     "data": {
      "text/plain": [
       "a    15\n",
       "b    20\n",
       "c    24\n",
       "d    12\n",
       "e    51\n",
       "f    60\n",
       "Name: Roll No, dtype: int64"
      ]
     },
     "execution_count": 28,
     "metadata": {},
     "output_type": "execute_result"
    }
   ],
   "source": [
    "data[\"Roll No\"]"
   ]
  },
  {
   "cell_type": "code",
   "execution_count": 29,
   "id": "6567b76a",
   "metadata": {},
   "outputs": [
    {
     "data": {
      "text/plain": [
       "a    20\n",
       "b    15\n",
       "c    43\n",
       "d    52\n",
       "e    14\n",
       "f    17\n",
       "Name: Salary, dtype: int64"
      ]
     },
     "execution_count": 29,
     "metadata": {},
     "output_type": "execute_result"
    }
   ],
   "source": [
    "data[\"Salary\"]"
   ]
  },
  {
   "cell_type": "markdown",
   "id": "278cd467",
   "metadata": {},
   "source": [
    "### **Multiple columns(DataFrame)**"
   ]
  },
  {
   "cell_type": "code",
   "execution_count": 30,
   "id": "f3df06f4",
   "metadata": {},
   "outputs": [
    {
     "name": "stdout",
     "output_type": "stream",
     "text": [
      "    Name   Roll No  Salary\n",
      "a    Ali        15      20\n",
      "b   Umair       20      15\n",
      "c  Khalil       24      43\n",
      "d    Musa       12      52\n",
      "e   Noman       51      14\n",
      "f   Sajad       60      17\n"
     ]
    }
   ],
   "source": [
    "print(data)"
   ]
  },
  {
   "cell_type": "code",
   "execution_count": 31,
   "id": "88064e42",
   "metadata": {},
   "outputs": [
    {
     "data": {
      "text/html": [
       "<div>\n",
       "<style scoped>\n",
       "    .dataframe tbody tr th:only-of-type {\n",
       "        vertical-align: middle;\n",
       "    }\n",
       "\n",
       "    .dataframe tbody tr th {\n",
       "        vertical-align: top;\n",
       "    }\n",
       "\n",
       "    .dataframe thead th {\n",
       "        text-align: right;\n",
       "    }\n",
       "</style>\n",
       "<table border=\"1\" class=\"dataframe\">\n",
       "  <thead>\n",
       "    <tr style=\"text-align: right;\">\n",
       "      <th></th>\n",
       "      <th>Name</th>\n",
       "      <th>Salary</th>\n",
       "    </tr>\n",
       "  </thead>\n",
       "  <tbody>\n",
       "    <tr>\n",
       "      <th>a</th>\n",
       "      <td>Ali</td>\n",
       "      <td>20</td>\n",
       "    </tr>\n",
       "    <tr>\n",
       "      <th>b</th>\n",
       "      <td>Umair</td>\n",
       "      <td>15</td>\n",
       "    </tr>\n",
       "    <tr>\n",
       "      <th>c</th>\n",
       "      <td>Khalil</td>\n",
       "      <td>43</td>\n",
       "    </tr>\n",
       "    <tr>\n",
       "      <th>d</th>\n",
       "      <td>Musa</td>\n",
       "      <td>52</td>\n",
       "    </tr>\n",
       "    <tr>\n",
       "      <th>e</th>\n",
       "      <td>Noman</td>\n",
       "      <td>14</td>\n",
       "    </tr>\n",
       "    <tr>\n",
       "      <th>f</th>\n",
       "      <td>Sajad</td>\n",
       "      <td>17</td>\n",
       "    </tr>\n",
       "  </tbody>\n",
       "</table>\n",
       "</div>"
      ],
      "text/plain": [
       "    Name   Salary\n",
       "a    Ali       20\n",
       "b   Umair      15\n",
       "c  Khalil      43\n",
       "d    Musa      52\n",
       "e   Noman      14\n",
       "f   Sajad      17"
      ]
     },
     "execution_count": 31,
     "metadata": {},
     "output_type": "execute_result"
    }
   ],
   "source": [
    "data[[\"Name \",\"Salary\"]]"
   ]
  },
  {
   "cell_type": "markdown",
   "id": "e5cf5924",
   "metadata": {},
   "source": [
    "## **Selecting Rows**"
   ]
  },
  {
   "cell_type": "markdown",
   "id": "2bee682a",
   "metadata": {},
   "source": [
    "### **label-based**"
   ]
  },
  {
   "cell_type": "code",
   "execution_count": 32,
   "id": "08e94da1",
   "metadata": {},
   "outputs": [
    {
     "name": "stdout",
     "output_type": "stream",
     "text": [
      "      Name  Age  Salary\n",
      "0    Alice   25   50000\n",
      "1      Bob   30   60000\n",
      "2  Charlie   35   70000\n"
     ]
    }
   ],
   "source": [
    "import pandas as pd\n",
    "data = pd.DataFrame({\n",
    "            'Name': ['Alice', 'Bob', 'Charlie'], \n",
    "            'Age': [25, 30, 35],\n",
    "            'Salary': [50000, 60000, 70000]\n",
    "        })\n",
    "print(data)\n"
   ]
  },
  {
   "cell_type": "code",
   "execution_count": 33,
   "id": "ad5b6ac8",
   "metadata": {},
   "outputs": [
    {
     "data": {
      "text/plain": [
       "Name      Alice\n",
       "Age          25\n",
       "Salary    50000\n",
       "Name: 0, dtype: object"
      ]
     },
     "execution_count": 33,
     "metadata": {},
     "output_type": "execute_result"
    }
   ],
   "source": [
    "data.loc[0]"
   ]
  },
  {
   "cell_type": "code",
   "execution_count": 34,
   "id": "a187055e",
   "metadata": {},
   "outputs": [
    {
     "data": {
      "text/html": [
       "<div>\n",
       "<style scoped>\n",
       "    .dataframe tbody tr th:only-of-type {\n",
       "        vertical-align: middle;\n",
       "    }\n",
       "\n",
       "    .dataframe tbody tr th {\n",
       "        vertical-align: top;\n",
       "    }\n",
       "\n",
       "    .dataframe thead th {\n",
       "        text-align: right;\n",
       "    }\n",
       "</style>\n",
       "<table border=\"1\" class=\"dataframe\">\n",
       "  <thead>\n",
       "    <tr style=\"text-align: right;\">\n",
       "      <th></th>\n",
       "      <th>Name</th>\n",
       "      <th>Age</th>\n",
       "      <th>Salary</th>\n",
       "    </tr>\n",
       "  </thead>\n",
       "  <tbody>\n",
       "    <tr>\n",
       "      <th>0</th>\n",
       "      <td>Alice</td>\n",
       "      <td>25</td>\n",
       "      <td>50000</td>\n",
       "    </tr>\n",
       "    <tr>\n",
       "      <th>1</th>\n",
       "      <td>Bob</td>\n",
       "      <td>30</td>\n",
       "      <td>60000</td>\n",
       "    </tr>\n",
       "  </tbody>\n",
       "</table>\n",
       "</div>"
      ],
      "text/plain": [
       "    Name  Age  Salary\n",
       "0  Alice   25   50000\n",
       "1    Bob   30   60000"
      ]
     },
     "execution_count": 34,
     "metadata": {},
     "output_type": "execute_result"
    }
   ],
   "source": [
    "data.loc[0:1]"
   ]
  },
  {
   "cell_type": "code",
   "execution_count": 35,
   "id": "5abee67a",
   "metadata": {},
   "outputs": [
    {
     "name": "stdout",
     "output_type": "stream",
     "text": [
      "      Name  Age  Salary\n",
      "0    Alice   25   50000\n",
      "1      Bob   30   60000\n",
      "2  Charlie   35   70000\n"
     ]
    }
   ],
   "source": [
    "import pandas as pd\n",
    "data = pd.DataFrame({\n",
    "            'Name': ['Alice', 'Bob', 'Charlie'], \n",
    "            'Age': [25, 30, 35],\n",
    "            'Salary': [50000, 60000, 70000]\n",
    "        })\n",
    "print(data)\n"
   ]
  },
  {
   "cell_type": "code",
   "execution_count": 36,
   "id": "4ab27229",
   "metadata": {},
   "outputs": [
    {
     "data": {
      "text/html": [
       "<div>\n",
       "<style scoped>\n",
       "    .dataframe tbody tr th:only-of-type {\n",
       "        vertical-align: middle;\n",
       "    }\n",
       "\n",
       "    .dataframe tbody tr th {\n",
       "        vertical-align: top;\n",
       "    }\n",
       "\n",
       "    .dataframe thead th {\n",
       "        text-align: right;\n",
       "    }\n",
       "</style>\n",
       "<table border=\"1\" class=\"dataframe\">\n",
       "  <thead>\n",
       "    <tr style=\"text-align: right;\">\n",
       "      <th></th>\n",
       "      <th>A</th>\n",
       "      <th>B</th>\n",
       "    </tr>\n",
       "  </thead>\n",
       "  <tbody>\n",
       "    <tr>\n",
       "      <th>x</th>\n",
       "      <td>10</td>\n",
       "      <td>100</td>\n",
       "    </tr>\n",
       "    <tr>\n",
       "      <th>y</th>\n",
       "      <td>20</td>\n",
       "      <td>200</td>\n",
       "    </tr>\n",
       "    <tr>\n",
       "      <th>z</th>\n",
       "      <td>30</td>\n",
       "      <td>300</td>\n",
       "    </tr>\n",
       "  </tbody>\n",
       "</table>\n",
       "</div>"
      ],
      "text/plain": [
       "    A    B\n",
       "x  10  100\n",
       "y  20  200\n",
       "z  30  300"
      ]
     },
     "execution_count": 36,
     "metadata": {},
     "output_type": "execute_result"
    }
   ],
   "source": [
    "df1 = pd.DataFrame({\n",
    "    \"A\" :[10,20,30],\n",
    "    \"B\" :[100,200,300]\n",
    "     } ,index=[\"x\",\"y\",\"z\"])\n",
    "df1"
   ]
  },
  {
   "cell_type": "code",
   "execution_count": 37,
   "id": "7777fbac",
   "metadata": {},
   "outputs": [],
   "source": [
    "import pandas as pd"
   ]
  },
  {
   "cell_type": "code",
   "execution_count": 38,
   "id": "6a34a5f7",
   "metadata": {},
   "outputs": [
    {
     "name": "stdout",
     "output_type": "stream",
     "text": [
      "    A    B\n",
      "x  10  100\n",
      "y  20  200\n",
      "z  30  300\n"
     ]
    }
   ],
   "source": [
    "# Select rows \"x\" to \"z\" (inclusive)\n",
    "rows_x_to_z =df1.loc[\"x\":\"z\"]\n",
    "print(rows_x_to_z)"
   ]
  },
  {
   "cell_type": "code",
   "execution_count": 39,
   "id": "bc40cf4f",
   "metadata": {},
   "outputs": [
    {
     "name": "stdout",
     "output_type": "stream",
     "text": [
      "x    10\n",
      "y    20\n",
      "z    30\n",
      "Name: A, dtype: int64\n"
     ]
    }
   ],
   "source": [
    "# Select columns \"A\" (label-based)\n",
    "col_a =df1.loc[:, \"A\"]\n",
    "print(col_a)"
   ]
  },
  {
   "cell_type": "markdown",
   "id": "fb4ac626",
   "metadata": {},
   "source": [
    "### **integer position-based**"
   ]
  },
  {
   "cell_type": "code",
   "execution_count": 40,
   "id": "12971b8d",
   "metadata": {},
   "outputs": [
    {
     "name": "stdout",
     "output_type": "stream",
     "text": [
      "   Name                 Class  Marks\n",
      "1  Khan              1st Year    445\n",
      "2  Peer  MS Coumputer Science    540\n",
      "3   Jan                Metric    463\n"
     ]
    }
   ],
   "source": [
    "df =pd.DataFrame({\n",
    "    \"Name\" :[\"Khan\",\"Peer\",\"Jan\"],\n",
    "    \"Class\" :[\"1st Year\",\"MS Coumputer Science\",\"Metric\"],\n",
    "    \"Marks\" :[445,540,463]\n",
    "    } ,index=[1,2,3])\n",
    "print(df)"
   ]
  },
  {
   "cell_type": "code",
   "execution_count": 41,
   "id": "5205f664",
   "metadata": {},
   "outputs": [
    {
     "data": {
      "text/html": [
       "<div>\n",
       "<style scoped>\n",
       "    .dataframe tbody tr th:only-of-type {\n",
       "        vertical-align: middle;\n",
       "    }\n",
       "\n",
       "    .dataframe tbody tr th {\n",
       "        vertical-align: top;\n",
       "    }\n",
       "\n",
       "    .dataframe thead th {\n",
       "        text-align: right;\n",
       "    }\n",
       "</style>\n",
       "<table border=\"1\" class=\"dataframe\">\n",
       "  <thead>\n",
       "    <tr style=\"text-align: right;\">\n",
       "      <th></th>\n",
       "      <th>Name</th>\n",
       "      <th>Class</th>\n",
       "      <th>Marks</th>\n",
       "    </tr>\n",
       "  </thead>\n",
       "  <tbody>\n",
       "    <tr>\n",
       "      <th>1</th>\n",
       "      <td>Khan</td>\n",
       "      <td>1st Year</td>\n",
       "      <td>445</td>\n",
       "    </tr>\n",
       "    <tr>\n",
       "      <th>2</th>\n",
       "      <td>Peer</td>\n",
       "      <td>MS Coumputer Science</td>\n",
       "      <td>540</td>\n",
       "    </tr>\n",
       "  </tbody>\n",
       "</table>\n",
       "</div>"
      ],
      "text/plain": [
       "   Name                 Class  Marks\n",
       "1  Khan              1st Year    445\n",
       "2  Peer  MS Coumputer Science    540"
      ]
     },
     "execution_count": 41,
     "metadata": {},
     "output_type": "execute_result"
    }
   ],
   "source": [
    "df.iloc[0:2]"
   ]
  },
  {
   "cell_type": "code",
   "execution_count": 42,
   "id": "f97c90fb",
   "metadata": {},
   "outputs": [
    {
     "data": {
      "text/html": [
       "<div>\n",
       "<style scoped>\n",
       "    .dataframe tbody tr th:only-of-type {\n",
       "        vertical-align: middle;\n",
       "    }\n",
       "\n",
       "    .dataframe tbody tr th {\n",
       "        vertical-align: top;\n",
       "    }\n",
       "\n",
       "    .dataframe thead th {\n",
       "        text-align: right;\n",
       "    }\n",
       "</style>\n",
       "<table border=\"1\" class=\"dataframe\">\n",
       "  <thead>\n",
       "    <tr style=\"text-align: right;\">\n",
       "      <th></th>\n",
       "      <th>A</th>\n",
       "      <th>B</th>\n",
       "    </tr>\n",
       "  </thead>\n",
       "  <tbody>\n",
       "    <tr>\n",
       "      <th>x</th>\n",
       "      <td>10</td>\n",
       "      <td>100</td>\n",
       "    </tr>\n",
       "    <tr>\n",
       "      <th>y</th>\n",
       "      <td>20</td>\n",
       "      <td>200</td>\n",
       "    </tr>\n",
       "    <tr>\n",
       "      <th>z</th>\n",
       "      <td>30</td>\n",
       "      <td>300</td>\n",
       "    </tr>\n",
       "  </tbody>\n",
       "</table>\n",
       "</div>"
      ],
      "text/plain": [
       "    A    B\n",
       "x  10  100\n",
       "y  20  200\n",
       "z  30  300"
      ]
     },
     "execution_count": 42,
     "metadata": {},
     "output_type": "execute_result"
    }
   ],
   "source": [
    "df1"
   ]
  },
  {
   "cell_type": "code",
   "execution_count": 43,
   "id": "1b488fe4",
   "metadata": {},
   "outputs": [
    {
     "name": "stdout",
     "output_type": "stream",
     "text": [
      "A     10\n",
      "B    100\n",
      "Name: x, dtype: int64\n"
     ]
    }
   ],
   "source": [
    "# Select First Row (position 0)\n",
    "first_row =df1.iloc[0]\n",
    "print(first_row)"
   ]
  },
  {
   "cell_type": "code",
   "execution_count": 44,
   "id": "161909cd",
   "metadata": {},
   "outputs": [],
   "source": [
    "import pandas as pd"
   ]
  },
  {
   "cell_type": "code",
   "execution_count": 45,
   "id": "49b4c5fe",
   "metadata": {},
   "outputs": [
    {
     "name": "stdout",
     "output_type": "stream",
     "text": [
      "    A    B\n",
      "x  10  100\n",
      "y  20  200\n"
     ]
    }
   ],
   "source": [
    "rows_0_to_1 =df1.iloc[0:2]\n",
    "print(rows_0_to_1)"
   ]
  },
  {
   "cell_type": "code",
   "execution_count": 46,
   "id": "fd8274ee",
   "metadata": {},
   "outputs": [
    {
     "name": "stdout",
     "output_type": "stream",
     "text": [
      "    A    B\n",
      "x  10  100\n",
      "y  20  200\n",
      "z  30  300\n"
     ]
    }
   ],
   "source": [
    "rows_0_to_2 =df1.iloc[0:3]\n",
    "print(rows_0_to_2)"
   ]
  },
  {
   "cell_type": "code",
   "execution_count": 47,
   "id": "2fed0c0d",
   "metadata": {},
   "outputs": [
    {
     "data": {
      "text/html": [
       "<div>\n",
       "<style scoped>\n",
       "    .dataframe tbody tr th:only-of-type {\n",
       "        vertical-align: middle;\n",
       "    }\n",
       "\n",
       "    .dataframe tbody tr th {\n",
       "        vertical-align: top;\n",
       "    }\n",
       "\n",
       "    .dataframe thead th {\n",
       "        text-align: right;\n",
       "    }\n",
       "</style>\n",
       "<table border=\"1\" class=\"dataframe\">\n",
       "  <thead>\n",
       "    <tr style=\"text-align: right;\">\n",
       "      <th></th>\n",
       "      <th>A</th>\n",
       "      <th>B</th>\n",
       "    </tr>\n",
       "  </thead>\n",
       "  <tbody>\n",
       "    <tr>\n",
       "      <th>x</th>\n",
       "      <td>10</td>\n",
       "      <td>100</td>\n",
       "    </tr>\n",
       "    <tr>\n",
       "      <th>y</th>\n",
       "      <td>20</td>\n",
       "      <td>200</td>\n",
       "    </tr>\n",
       "    <tr>\n",
       "      <th>z</th>\n",
       "      <td>30</td>\n",
       "      <td>300</td>\n",
       "    </tr>\n",
       "  </tbody>\n",
       "</table>\n",
       "</div>"
      ],
      "text/plain": [
       "    A    B\n",
       "x  10  100\n",
       "y  20  200\n",
       "z  30  300"
      ]
     },
     "execution_count": 47,
     "metadata": {},
     "output_type": "execute_result"
    }
   ],
   "source": [
    "df1"
   ]
  },
  {
   "cell_type": "code",
   "execution_count": 48,
   "id": "b0765b50",
   "metadata": {},
   "outputs": [
    {
     "name": "stdout",
     "output_type": "stream",
     "text": [
      "x    10\n",
      "y    20\n",
      "z    30\n",
      "Name: A, dtype: int64\n"
     ]
    }
   ],
   "source": [
    "# select column 0(psition 0 = A)\n",
    "col_a =df1.iloc[:, 0]\n",
    "print(col_a)"
   ]
  },
  {
   "cell_type": "markdown",
   "id": "439cca0f",
   "metadata": {},
   "source": [
    "## **Setting Values**"
   ]
  },
  {
   "cell_type": "code",
   "execution_count": 49,
   "id": "b2210f13",
   "metadata": {},
   "outputs": [
    {
     "data": {
      "text/html": [
       "<div>\n",
       "<style scoped>\n",
       "    .dataframe tbody tr th:only-of-type {\n",
       "        vertical-align: middle;\n",
       "    }\n",
       "\n",
       "    .dataframe tbody tr th {\n",
       "        vertical-align: top;\n",
       "    }\n",
       "\n",
       "    .dataframe thead th {\n",
       "        text-align: right;\n",
       "    }\n",
       "</style>\n",
       "<table border=\"1\" class=\"dataframe\">\n",
       "  <thead>\n",
       "    <tr style=\"text-align: right;\">\n",
       "      <th></th>\n",
       "      <th>Name</th>\n",
       "      <th>Age</th>\n",
       "      <th>Salary</th>\n",
       "    </tr>\n",
       "  </thead>\n",
       "  <tbody>\n",
       "    <tr>\n",
       "      <th>0</th>\n",
       "      <td>Alice</td>\n",
       "      <td>25</td>\n",
       "      <td>50000</td>\n",
       "    </tr>\n",
       "    <tr>\n",
       "      <th>1</th>\n",
       "      <td>Bob</td>\n",
       "      <td>30</td>\n",
       "      <td>60000</td>\n",
       "    </tr>\n",
       "    <tr>\n",
       "      <th>2</th>\n",
       "      <td>Charlie</td>\n",
       "      <td>35</td>\n",
       "      <td>70000</td>\n",
       "    </tr>\n",
       "  </tbody>\n",
       "</table>\n",
       "</div>"
      ],
      "text/plain": [
       "      Name  Age  Salary\n",
       "0    Alice   25   50000\n",
       "1      Bob   30   60000\n",
       "2  Charlie   35   70000"
      ]
     },
     "execution_count": 49,
     "metadata": {},
     "output_type": "execute_result"
    }
   ],
   "source": [
    "data"
   ]
  },
  {
   "cell_type": "code",
   "execution_count": 50,
   "id": "ca5b4e23",
   "metadata": {},
   "outputs": [],
   "source": [
    "data.loc[2,\"Salary\"] =4000"
   ]
  },
  {
   "cell_type": "code",
   "execution_count": 51,
   "id": "966148f2",
   "metadata": {},
   "outputs": [
    {
     "data": {
      "text/plain": [
       "Name      Charlie\n",
       "Age            35\n",
       "Salary       4000\n",
       "Name: 2, dtype: object"
      ]
     },
     "execution_count": 51,
     "metadata": {},
     "output_type": "execute_result"
    }
   ],
   "source": [
    "data.loc[2]"
   ]
  },
  {
   "cell_type": "markdown",
   "id": "97b584b3",
   "metadata": {},
   "source": [
    "## **Additional Selecting**"
   ]
  },
  {
   "cell_type": "code",
   "execution_count": 52,
   "id": "bf02ead3",
   "metadata": {},
   "outputs": [
    {
     "data": {
      "text/html": [
       "<div>\n",
       "<style scoped>\n",
       "    .dataframe tbody tr th:only-of-type {\n",
       "        vertical-align: middle;\n",
       "    }\n",
       "\n",
       "    .dataframe tbody tr th {\n",
       "        vertical-align: top;\n",
       "    }\n",
       "\n",
       "    .dataframe thead th {\n",
       "        text-align: right;\n",
       "    }\n",
       "</style>\n",
       "<table border=\"1\" class=\"dataframe\">\n",
       "  <thead>\n",
       "    <tr style=\"text-align: right;\">\n",
       "      <th></th>\n",
       "      <th>Name</th>\n",
       "      <th>Age</th>\n",
       "      <th>Salary</th>\n",
       "    </tr>\n",
       "  </thead>\n",
       "  <tbody>\n",
       "    <tr>\n",
       "      <th>1</th>\n",
       "      <td>Bob</td>\n",
       "      <td>30</td>\n",
       "      <td>60000</td>\n",
       "    </tr>\n",
       "    <tr>\n",
       "      <th>2</th>\n",
       "      <td>Charlie</td>\n",
       "      <td>35</td>\n",
       "      <td>4000</td>\n",
       "    </tr>\n",
       "  </tbody>\n",
       "</table>\n",
       "</div>"
      ],
      "text/plain": [
       "      Name  Age  Salary\n",
       "1      Bob   30   60000\n",
       "2  Charlie   35    4000"
      ]
     },
     "execution_count": 52,
     "metadata": {},
     "output_type": "execute_result"
    }
   ],
   "source": [
    "data[data[\"Age\"] > 25] # Rows where Age >25"
   ]
  },
  {
   "cell_type": "markdown",
   "id": "a3a2406a",
   "metadata": {},
   "source": [
    "## **Handling Missing Data**"
   ]
  },
  {
   "cell_type": "markdown",
   "id": "ad494169",
   "metadata": {},
   "source": [
    "#### **Detecting Missing Data**"
   ]
  },
  {
   "cell_type": "code",
   "execution_count": 53,
   "id": "9e2b40bf",
   "metadata": {},
   "outputs": [
    {
     "name": "stdout",
     "output_type": "stream",
     "text": [
      "    a    b    c \n",
      "0  1.0  NaN  1.0\n",
      "1  2.0  6.0  5.0\n",
      "2  NaN  7.0  9.0\n",
      "3  4.0  8.0  NaN\n"
     ]
    }
   ],
   "source": [
    "import pandas as pd\n",
    "missing_data ={\n",
    "    \"a \" : [1,2,None,4],\n",
    "    \"b \" : [None,6,7,8],\n",
    "    \"c \" : [1,5,9,None]\n",
    "}\n",
    "missing_data =pd.DataFrame(missing_data)\n",
    "print(missing_data)"
   ]
  },
  {
   "cell_type": "code",
   "execution_count": 54,
   "id": "447fef1f",
   "metadata": {},
   "outputs": [
    {
     "data": {
      "text/html": [
       "<div>\n",
       "<style scoped>\n",
       "    .dataframe tbody tr th:only-of-type {\n",
       "        vertical-align: middle;\n",
       "    }\n",
       "\n",
       "    .dataframe tbody tr th {\n",
       "        vertical-align: top;\n",
       "    }\n",
       "\n",
       "    .dataframe thead th {\n",
       "        text-align: right;\n",
       "    }\n",
       "</style>\n",
       "<table border=\"1\" class=\"dataframe\">\n",
       "  <thead>\n",
       "    <tr style=\"text-align: right;\">\n",
       "      <th></th>\n",
       "      <th>A</th>\n",
       "      <th>B</th>\n",
       "      <th>C</th>\n",
       "    </tr>\n",
       "  </thead>\n",
       "  <tbody>\n",
       "    <tr>\n",
       "      <th>0</th>\n",
       "      <td>1.0</td>\n",
       "      <td>NaN</td>\n",
       "      <td>8.0</td>\n",
       "    </tr>\n",
       "    <tr>\n",
       "      <th>1</th>\n",
       "      <td>2.0</td>\n",
       "      <td>5.0</td>\n",
       "      <td>NaN</td>\n",
       "    </tr>\n",
       "    <tr>\n",
       "      <th>2</th>\n",
       "      <td>NaN</td>\n",
       "      <td>6.0</td>\n",
       "      <td>10.0</td>\n",
       "    </tr>\n",
       "    <tr>\n",
       "      <th>3</th>\n",
       "      <td>4.0</td>\n",
       "      <td>7.0</td>\n",
       "      <td>NaN</td>\n",
       "    </tr>\n",
       "  </tbody>\n",
       "</table>\n",
       "</div>"
      ],
      "text/plain": [
       "     A    B     C\n",
       "0  1.0  NaN   8.0\n",
       "1  2.0  5.0   NaN\n",
       "2  NaN  6.0  10.0\n",
       "3  4.0  7.0   NaN"
      ]
     },
     "execution_count": 54,
     "metadata": {},
     "output_type": "execute_result"
    }
   ],
   "source": [
    "missing_data = pd.DataFrame({\n",
    "    'A': [1, 2, None, 4],\n",
    "    'B': [None, 5, 6, 7],\n",
    "    'C': [8, None, 10, None]\n",
    "})\n",
    "missing_data"
   ]
  },
  {
   "cell_type": "code",
   "execution_count": 55,
   "id": "b2411fe6",
   "metadata": {},
   "outputs": [
    {
     "data": {
      "text/html": [
       "<div>\n",
       "<style scoped>\n",
       "    .dataframe tbody tr th:only-of-type {\n",
       "        vertical-align: middle;\n",
       "    }\n",
       "\n",
       "    .dataframe tbody tr th {\n",
       "        vertical-align: top;\n",
       "    }\n",
       "\n",
       "    .dataframe thead th {\n",
       "        text-align: right;\n",
       "    }\n",
       "</style>\n",
       "<table border=\"1\" class=\"dataframe\">\n",
       "  <thead>\n",
       "    <tr style=\"text-align: right;\">\n",
       "      <th></th>\n",
       "      <th>A</th>\n",
       "      <th>B</th>\n",
       "      <th>C</th>\n",
       "    </tr>\n",
       "  </thead>\n",
       "  <tbody>\n",
       "    <tr>\n",
       "      <th>0</th>\n",
       "      <td>False</td>\n",
       "      <td>True</td>\n",
       "      <td>False</td>\n",
       "    </tr>\n",
       "    <tr>\n",
       "      <th>1</th>\n",
       "      <td>False</td>\n",
       "      <td>False</td>\n",
       "      <td>True</td>\n",
       "    </tr>\n",
       "    <tr>\n",
       "      <th>2</th>\n",
       "      <td>True</td>\n",
       "      <td>False</td>\n",
       "      <td>False</td>\n",
       "    </tr>\n",
       "    <tr>\n",
       "      <th>3</th>\n",
       "      <td>False</td>\n",
       "      <td>False</td>\n",
       "      <td>True</td>\n",
       "    </tr>\n",
       "  </tbody>\n",
       "</table>\n",
       "</div>"
      ],
      "text/plain": [
       "       A      B      C\n",
       "0  False   True  False\n",
       "1  False  False   True\n",
       "2   True  False  False\n",
       "3  False  False   True"
      ]
     },
     "execution_count": 55,
     "metadata": {},
     "output_type": "execute_result"
    }
   ],
   "source": [
    "missing_data.isnull()   # Returns DataFrame of True/False for missing "
   ]
  },
  {
   "cell_type": "code",
   "execution_count": 56,
   "id": "cbcdddd4",
   "metadata": {},
   "outputs": [
    {
     "data": {
      "text/plain": [
       "A    1\n",
       "B    1\n",
       "C    2\n",
       "dtype: int64"
      ]
     },
     "execution_count": 56,
     "metadata": {},
     "output_type": "execute_result"
    }
   ],
   "source": [
    "missing_data.isnull().sum()    # Count missing values per column"
   ]
  },
  {
   "cell_type": "markdown",
   "id": "606fc71b",
   "metadata": {},
   "source": [
    "## **Changing Data Types**"
   ]
  },
  {
   "cell_type": "code",
   "execution_count": 57,
   "id": "2d0e6bd1",
   "metadata": {},
   "outputs": [
    {
     "data": {
      "text/html": [
       "<div>\n",
       "<style scoped>\n",
       "    .dataframe tbody tr th:only-of-type {\n",
       "        vertical-align: middle;\n",
       "    }\n",
       "\n",
       "    .dataframe tbody tr th {\n",
       "        vertical-align: top;\n",
       "    }\n",
       "\n",
       "    .dataframe thead th {\n",
       "        text-align: right;\n",
       "    }\n",
       "</style>\n",
       "<table border=\"1\" class=\"dataframe\">\n",
       "  <thead>\n",
       "    <tr style=\"text-align: right;\">\n",
       "      <th></th>\n",
       "      <th>Name</th>\n",
       "      <th>Class</th>\n",
       "      <th>Marks</th>\n",
       "    </tr>\n",
       "  </thead>\n",
       "  <tbody>\n",
       "    <tr>\n",
       "      <th>1</th>\n",
       "      <td>Khan</td>\n",
       "      <td>1st Year</td>\n",
       "      <td>445</td>\n",
       "    </tr>\n",
       "    <tr>\n",
       "      <th>2</th>\n",
       "      <td>Peer</td>\n",
       "      <td>MS Coumputer Science</td>\n",
       "      <td>540</td>\n",
       "    </tr>\n",
       "    <tr>\n",
       "      <th>3</th>\n",
       "      <td>Jan</td>\n",
       "      <td>Metric</td>\n",
       "      <td>463</td>\n",
       "    </tr>\n",
       "  </tbody>\n",
       "</table>\n",
       "</div>"
      ],
      "text/plain": [
       "   Name                 Class  Marks\n",
       "1  Khan              1st Year    445\n",
       "2  Peer  MS Coumputer Science    540\n",
       "3   Jan                Metric    463"
      ]
     },
     "execution_count": 57,
     "metadata": {},
     "output_type": "execute_result"
    }
   ],
   "source": [
    "df"
   ]
  },
  {
   "cell_type": "code",
   "execution_count": 58,
   "id": "68de24ff",
   "metadata": {},
   "outputs": [
    {
     "name": "stdout",
     "output_type": "stream",
     "text": [
      "Name     object\n",
      "Class    object\n",
      "Marks     int64\n",
      "dtype: object\n"
     ]
    }
   ],
   "source": [
    "df[\"Marks\"] = df[\"Marks\"].astype(int)   # convert Marksto Float\n",
    "print(df.dtypes)"
   ]
  },
  {
   "cell_type": "markdown",
   "id": "6c4ae4e6",
   "metadata": {},
   "source": [
    "## **Rmoving Duplicates**"
   ]
  },
  {
   "cell_type": "code",
   "execution_count": 59,
   "id": "ac8f9968",
   "metadata": {},
   "outputs": [
    {
     "name": "stdout",
     "output_type": "stream",
     "text": [
      "    Name  Age  Salary\n",
      "0    Ali   20    2000\n",
      "1  Hiala   15    3200\n",
      "2    Ali   20    2000\n",
      "3  Jalal   19    1450\n"
     ]
    }
   ],
   "source": [
    "df_with_Duplicates = pd.DataFrame({\n",
    "    \"Name\" : [\"Ali\",\"Hiala\",\"Ali\",\"Jalal\"],\n",
    "    \"Age\" : [20,15,20,19],\n",
    "    \"Salary\" :[2000,3200,2000,1450]\n",
    "})\n",
    "print(df_with_Duplicates)"
   ]
  },
  {
   "cell_type": "code",
   "execution_count": 60,
   "id": "1e113f0a",
   "metadata": {},
   "outputs": [
    {
     "name": "stdout",
     "output_type": "stream",
     "text": [
      "0    False\n",
      "1    False\n",
      "2     True\n",
      "3    False\n",
      "dtype: bool\n"
     ]
    }
   ],
   "source": [
    "print(df_with_Duplicates.duplicated())  # Check For duplicates"
   ]
  },
  {
   "cell_type": "code",
   "execution_count": 61,
   "id": "144bce82",
   "metadata": {},
   "outputs": [
    {
     "name": "stdout",
     "output_type": "stream",
     "text": [
      "    Name  Age  Salary\n",
      "0    Ali   20    2000\n",
      "1  Hiala   15    3200\n",
      "3  Jalal   19    1450\n"
     ]
    }
   ],
   "source": [
    "print(df_with_Duplicates.drop_duplicates()) #Remove duplicates"
   ]
  },
  {
   "cell_type": "markdown",
   "id": "8268e5a2",
   "metadata": {},
   "source": [
    "## **Data Aggregation & Grouping**"
   ]
  },
  {
   "cell_type": "code",
   "execution_count": 62,
   "id": "ee06dae7",
   "metadata": {},
   "outputs": [
    {
     "data": {
      "text/html": [
       "<div>\n",
       "<style scoped>\n",
       "    .dataframe tbody tr th:only-of-type {\n",
       "        vertical-align: middle;\n",
       "    }\n",
       "\n",
       "    .dataframe tbody tr th {\n",
       "        vertical-align: top;\n",
       "    }\n",
       "\n",
       "    .dataframe thead th {\n",
       "        text-align: right;\n",
       "    }\n",
       "</style>\n",
       "<table border=\"1\" class=\"dataframe\">\n",
       "  <thead>\n",
       "    <tr style=\"text-align: right;\">\n",
       "      <th></th>\n",
       "      <th>Name</th>\n",
       "      <th>Class</th>\n",
       "      <th>Marks</th>\n",
       "    </tr>\n",
       "  </thead>\n",
       "  <tbody>\n",
       "    <tr>\n",
       "      <th>1</th>\n",
       "      <td>Khan</td>\n",
       "      <td>1st Year</td>\n",
       "      <td>445</td>\n",
       "    </tr>\n",
       "    <tr>\n",
       "      <th>2</th>\n",
       "      <td>Peer</td>\n",
       "      <td>MS Coumputer Science</td>\n",
       "      <td>540</td>\n",
       "    </tr>\n",
       "    <tr>\n",
       "      <th>3</th>\n",
       "      <td>Jan</td>\n",
       "      <td>Metric</td>\n",
       "      <td>463</td>\n",
       "    </tr>\n",
       "  </tbody>\n",
       "</table>\n",
       "</div>"
      ],
      "text/plain": [
       "   Name                 Class  Marks\n",
       "1  Khan              1st Year    445\n",
       "2  Peer  MS Coumputer Science    540\n",
       "3   Jan                Metric    463"
      ]
     },
     "execution_count": 62,
     "metadata": {},
     "output_type": "execute_result"
    }
   ],
   "source": [
    "df"
   ]
  },
  {
   "cell_type": "code",
   "execution_count": 63,
   "id": "82cd11d2",
   "metadata": {},
   "outputs": [
    {
     "name": "stdout",
     "output_type": "stream",
     "text": [
      "1448\n"
     ]
    }
   ],
   "source": [
    "# sum of acolumn\n",
    "print(df[\"Marks\"].sum())"
   ]
  },
  {
   "cell_type": "code",
   "execution_count": 64,
   "id": "5eb2e8df",
   "metadata": {},
   "outputs": [
    {
     "name": "stdout",
     "output_type": "stream",
     "text": [
      "482.6666666666667\n"
     ]
    }
   ],
   "source": [
    "# mean of a column\n",
    "print(df[\"Marks\"].mean())"
   ]
  },
  {
   "cell_type": "code",
   "execution_count": 65,
   "id": "94baa8ca",
   "metadata": {},
   "outputs": [
    {
     "name": "stdout",
     "output_type": "stream",
     "text": [
      "3\n"
     ]
    }
   ],
   "source": [
    "# count of non-null values in column\n",
    "print(df[\"Marks\"].count())"
   ]
  },
  {
   "cell_type": "code",
   "execution_count": 66,
   "id": "b13027fb",
   "metadata": {},
   "outputs": [
    {
     "name": "stdout",
     "output_type": "stream",
     "text": [
      "445\n"
     ]
    }
   ],
   "source": [
    "# minimum value in a column\n",
    "print(df[\"Marks\"].min())"
   ]
  },
  {
   "cell_type": "code",
   "execution_count": 67,
   "id": "8b6f661c",
   "metadata": {},
   "outputs": [
    {
     "name": "stdout",
     "output_type": "stream",
     "text": [
      "540\n"
     ]
    }
   ],
   "source": [
    "# maximum value in a column\n",
    "print(df[\"Marks\"].max())"
   ]
  },
  {
   "cell_type": "code",
   "execution_count": 68,
   "id": "2414bddc",
   "metadata": {},
   "outputs": [],
   "source": [
    "# grouping data by a column\n",
    "grouped =df.groupby(\"Name\").sum()"
   ]
  },
  {
   "cell_type": "code",
   "execution_count": 69,
   "id": "8fb734af",
   "metadata": {},
   "outputs": [
    {
     "data": {
      "text/html": [
       "<div>\n",
       "<style scoped>\n",
       "    .dataframe tbody tr th:only-of-type {\n",
       "        vertical-align: middle;\n",
       "    }\n",
       "\n",
       "    .dataframe tbody tr th {\n",
       "        vertical-align: top;\n",
       "    }\n",
       "\n",
       "    .dataframe thead th {\n",
       "        text-align: right;\n",
       "    }\n",
       "</style>\n",
       "<table border=\"1\" class=\"dataframe\">\n",
       "  <thead>\n",
       "    <tr style=\"text-align: right;\">\n",
       "      <th></th>\n",
       "      <th>Class</th>\n",
       "      <th>Marks</th>\n",
       "    </tr>\n",
       "    <tr>\n",
       "      <th>Name</th>\n",
       "      <th></th>\n",
       "      <th></th>\n",
       "    </tr>\n",
       "  </thead>\n",
       "  <tbody>\n",
       "    <tr>\n",
       "      <th>Jan</th>\n",
       "      <td>Metric</td>\n",
       "      <td>463</td>\n",
       "    </tr>\n",
       "    <tr>\n",
       "      <th>Khan</th>\n",
       "      <td>1st Year</td>\n",
       "      <td>445</td>\n",
       "    </tr>\n",
       "    <tr>\n",
       "      <th>Peer</th>\n",
       "      <td>MS Coumputer Science</td>\n",
       "      <td>540</td>\n",
       "    </tr>\n",
       "  </tbody>\n",
       "</table>\n",
       "</div>"
      ],
      "text/plain": [
       "                     Class  Marks\n",
       "Name                             \n",
       "Jan                 Metric    463\n",
       "Khan              1st Year    445\n",
       "Peer  MS Coumputer Science    540"
      ]
     },
     "execution_count": 69,
     "metadata": {},
     "output_type": "execute_result"
    }
   ],
   "source": [
    "grouped"
   ]
  },
  {
   "cell_type": "code",
   "execution_count": 70,
   "id": "8b9dc70a",
   "metadata": {},
   "outputs": [],
   "source": [
    "# group salary mean by Age\n",
    "grouped_salary_mean = data.groupby(\"Age\")[\"Salary\"].mean()"
   ]
  },
  {
   "cell_type": "code",
   "execution_count": 71,
   "id": "c96507b0",
   "metadata": {},
   "outputs": [
    {
     "data": {
      "text/plain": [
       "Age\n",
       "25    50000.0\n",
       "30    60000.0\n",
       "35     4000.0\n",
       "Name: Salary, dtype: float64"
      ]
     },
     "execution_count": 71,
     "metadata": {},
     "output_type": "execute_result"
    }
   ],
   "source": [
    "grouped_salary_mean"
   ]
  },
  {
   "cell_type": "code",
   "execution_count": null,
   "id": "2da3133b",
   "metadata": {},
   "outputs": [],
   "source": []
  },
  {
   "cell_type": "code",
   "execution_count": 72,
   "id": "e6f1f3bb",
   "metadata": {},
   "outputs": [
    {
     "data": {
      "text/plain": [
       "Salary\n",
       "4000     35.0\n",
       "50000    25.0\n",
       "60000    30.0\n",
       "Name: Age, dtype: float64"
      ]
     },
     "execution_count": 72,
     "metadata": {},
     "output_type": "execute_result"
    }
   ],
   "source": [
    "# group Saalary mean by Age\n",
    "grouped_age_mean = data.groupby('Salary')['Age'].mean()   \n",
    "grouped_age_mean\n",
    "\n"
   ]
  },
  {
   "cell_type": "code",
   "execution_count": 73,
   "id": "0ba508a7",
   "metadata": {},
   "outputs": [],
   "source": [
    "groupby1 = pd.DataFrame([\n",
    "    {'Name': 'Alice', 'Age': 25, 'Salary': 50000},\n",
    "    {'Name': 'Bob', 'Age': 30, 'Salary': 60000},\n",
    "    {'Name': 'Charlie', 'Age': 35, 'Salary': 75000},\n",
    "    {'Name': 'Charlie', 'Age': 35, 'Salary': 70000}\n",
    "])"
   ]
  },
  {
   "cell_type": "code",
   "execution_count": 74,
   "id": "2ee40e64",
   "metadata": {},
   "outputs": [
    {
     "data": {
      "text/html": [
       "<div>\n",
       "<style scoped>\n",
       "    .dataframe tbody tr th:only-of-type {\n",
       "        vertical-align: middle;\n",
       "    }\n",
       "\n",
       "    .dataframe tbody tr th {\n",
       "        vertical-align: top;\n",
       "    }\n",
       "\n",
       "    .dataframe thead th {\n",
       "        text-align: right;\n",
       "    }\n",
       "</style>\n",
       "<table border=\"1\" class=\"dataframe\">\n",
       "  <thead>\n",
       "    <tr style=\"text-align: right;\">\n",
       "      <th></th>\n",
       "      <th>Name</th>\n",
       "      <th>Age</th>\n",
       "      <th>Salary</th>\n",
       "    </tr>\n",
       "  </thead>\n",
       "  <tbody>\n",
       "    <tr>\n",
       "      <th>0</th>\n",
       "      <td>Alice</td>\n",
       "      <td>25</td>\n",
       "      <td>50000</td>\n",
       "    </tr>\n",
       "    <tr>\n",
       "      <th>1</th>\n",
       "      <td>Bob</td>\n",
       "      <td>30</td>\n",
       "      <td>60000</td>\n",
       "    </tr>\n",
       "    <tr>\n",
       "      <th>2</th>\n",
       "      <td>Charlie</td>\n",
       "      <td>35</td>\n",
       "      <td>75000</td>\n",
       "    </tr>\n",
       "    <tr>\n",
       "      <th>3</th>\n",
       "      <td>Charlie</td>\n",
       "      <td>35</td>\n",
       "      <td>70000</td>\n",
       "    </tr>\n",
       "  </tbody>\n",
       "</table>\n",
       "</div>"
      ],
      "text/plain": [
       "      Name  Age  Salary\n",
       "0    Alice   25   50000\n",
       "1      Bob   30   60000\n",
       "2  Charlie   35   75000\n",
       "3  Charlie   35   70000"
      ]
     },
     "execution_count": 74,
     "metadata": {},
     "output_type": "execute_result"
    }
   ],
   "source": [
    "groupby1"
   ]
  },
  {
   "cell_type": "code",
   "execution_count": 75,
   "id": "29ac2175",
   "metadata": {},
   "outputs": [
    {
     "data": {
      "text/plain": [
       "Age\n",
       "25    50000.0\n",
       "30    60000.0\n",
       "35    72500.0\n",
       "Name: Salary, dtype: float64"
      ]
     },
     "execution_count": 75,
     "metadata": {},
     "output_type": "execute_result"
    }
   ],
   "source": [
    "# group Saalary mean by Age\n",
    "grouped_salary_mean = groupby1.groupby('Age')['Salary'].mean()\n",
    "grouped_salary_mean"
   ]
  },
  {
   "cell_type": "code",
   "execution_count": 76,
   "id": "de3f78ff",
   "metadata": {},
   "outputs": [
    {
     "data": {
      "text/html": [
       "<div>\n",
       "<style scoped>\n",
       "    .dataframe tbody tr th:only-of-type {\n",
       "        vertical-align: middle;\n",
       "    }\n",
       "\n",
       "    .dataframe tbody tr th {\n",
       "        vertical-align: top;\n",
       "    }\n",
       "\n",
       "    .dataframe thead th {\n",
       "        text-align: right;\n",
       "    }\n",
       "</style>\n",
       "<table border=\"1\" class=\"dataframe\">\n",
       "  <thead>\n",
       "    <tr style=\"text-align: right;\">\n",
       "      <th></th>\n",
       "      <th>Name</th>\n",
       "      <th>Class</th>\n",
       "      <th>Marks</th>\n",
       "    </tr>\n",
       "  </thead>\n",
       "  <tbody>\n",
       "    <tr>\n",
       "      <th>1</th>\n",
       "      <td>Khan</td>\n",
       "      <td>1st Year</td>\n",
       "      <td>445</td>\n",
       "    </tr>\n",
       "    <tr>\n",
       "      <th>2</th>\n",
       "      <td>Peer</td>\n",
       "      <td>MS Coumputer Science</td>\n",
       "      <td>540</td>\n",
       "    </tr>\n",
       "    <tr>\n",
       "      <th>3</th>\n",
       "      <td>Jan</td>\n",
       "      <td>Metric</td>\n",
       "      <td>463</td>\n",
       "    </tr>\n",
       "  </tbody>\n",
       "</table>\n",
       "</div>"
      ],
      "text/plain": [
       "   Name                 Class  Marks\n",
       "1  Khan              1st Year    445\n",
       "2  Peer  MS Coumputer Science    540\n",
       "3   Jan                Metric    463"
      ]
     },
     "execution_count": 76,
     "metadata": {},
     "output_type": "execute_result"
    }
   ],
   "source": [
    "df"
   ]
  },
  {
   "cell_type": "code",
   "execution_count": 77,
   "id": "543324f0",
   "metadata": {},
   "outputs": [],
   "source": [
    "# Multiple Aggregations\n",
    "aggregated = data.groupby('Age').agg({\n",
    "    'Salary': ['mean', 'sum'],\n",
    "    'Name': 'count'\n",
    "})"
   ]
  },
  {
   "cell_type": "code",
   "execution_count": 78,
   "id": "2fcae9a5",
   "metadata": {},
   "outputs": [
    {
     "data": {
      "text/html": [
       "<div>\n",
       "<style scoped>\n",
       "    .dataframe tbody tr th:only-of-type {\n",
       "        vertical-align: middle;\n",
       "    }\n",
       "\n",
       "    .dataframe tbody tr th {\n",
       "        vertical-align: top;\n",
       "    }\n",
       "\n",
       "    .dataframe thead tr th {\n",
       "        text-align: left;\n",
       "    }\n",
       "\n",
       "    .dataframe thead tr:last-of-type th {\n",
       "        text-align: right;\n",
       "    }\n",
       "</style>\n",
       "<table border=\"1\" class=\"dataframe\">\n",
       "  <thead>\n",
       "    <tr>\n",
       "      <th></th>\n",
       "      <th colspan=\"2\" halign=\"left\">Salary</th>\n",
       "      <th>Name</th>\n",
       "    </tr>\n",
       "    <tr>\n",
       "      <th></th>\n",
       "      <th>mean</th>\n",
       "      <th>sum</th>\n",
       "      <th>count</th>\n",
       "    </tr>\n",
       "    <tr>\n",
       "      <th>Age</th>\n",
       "      <th></th>\n",
       "      <th></th>\n",
       "      <th></th>\n",
       "    </tr>\n",
       "  </thead>\n",
       "  <tbody>\n",
       "    <tr>\n",
       "      <th>25</th>\n",
       "      <td>50000.0</td>\n",
       "      <td>50000</td>\n",
       "      <td>1</td>\n",
       "    </tr>\n",
       "    <tr>\n",
       "      <th>30</th>\n",
       "      <td>60000.0</td>\n",
       "      <td>60000</td>\n",
       "      <td>1</td>\n",
       "    </tr>\n",
       "    <tr>\n",
       "      <th>35</th>\n",
       "      <td>4000.0</td>\n",
       "      <td>4000</td>\n",
       "      <td>1</td>\n",
       "    </tr>\n",
       "  </tbody>\n",
       "</table>\n",
       "</div>"
      ],
      "text/plain": [
       "      Salary         Name\n",
       "        mean    sum count\n",
       "Age                      \n",
       "25   50000.0  50000     1\n",
       "30   60000.0  60000     1\n",
       "35    4000.0   4000     1"
      ]
     },
     "execution_count": 78,
     "metadata": {},
     "output_type": "execute_result"
    }
   ],
   "source": [
    "aggregated"
   ]
  },
  {
   "cell_type": "markdown",
   "id": "38537924",
   "metadata": {},
   "source": [
    "## **Concatenation**"
   ]
  },
  {
   "cell_type": "markdown",
   "id": "d36013d8",
   "metadata": {},
   "source": [
    "- Concatenation in pandas refers to combining two or more DataFrames or Series along a particular axis (row-wise or column-wise).     \n",
    "- It is useful when you have datasets with the same columns (to stack vertically) or the same index (to stack horizontally).\n",
    "- Use concatenation when you want to append data, merge results from different sources, or combine similar datasets for further analysis."
   ]
  },
  {
   "cell_type": "code",
   "execution_count": 79,
   "id": "ebda07c1",
   "metadata": {},
   "outputs": [],
   "source": [
    "# Dataframes for Concatenation\n",
    "df1 = pd.DataFrame({\n",
    "    'Name': ['Alice', 'Bob'], \n",
    "    'Age': [25, 30],\n",
    "    'Salary': [50000, 60000]\n",
    "})\n",
    "df2 = pd.DataFrame({\n",
    "    'Name': ['Charlie', 'David'], \n",
    "    'Age': [35, 40],\n",
    "    'Salary': [70000, 80000]\n",
    "})"
   ]
  },
  {
   "cell_type": "code",
   "execution_count": 80,
   "id": "3028d7dc",
   "metadata": {},
   "outputs": [
    {
     "data": {
      "text/html": [
       "<div>\n",
       "<style scoped>\n",
       "    .dataframe tbody tr th:only-of-type {\n",
       "        vertical-align: middle;\n",
       "    }\n",
       "\n",
       "    .dataframe tbody tr th {\n",
       "        vertical-align: top;\n",
       "    }\n",
       "\n",
       "    .dataframe thead th {\n",
       "        text-align: right;\n",
       "    }\n",
       "</style>\n",
       "<table border=\"1\" class=\"dataframe\">\n",
       "  <thead>\n",
       "    <tr style=\"text-align: right;\">\n",
       "      <th></th>\n",
       "      <th>Name</th>\n",
       "      <th>Age</th>\n",
       "      <th>Salary</th>\n",
       "    </tr>\n",
       "  </thead>\n",
       "  <tbody>\n",
       "    <tr>\n",
       "      <th>0</th>\n",
       "      <td>Alice</td>\n",
       "      <td>25</td>\n",
       "      <td>50000</td>\n",
       "    </tr>\n",
       "    <tr>\n",
       "      <th>1</th>\n",
       "      <td>Bob</td>\n",
       "      <td>30</td>\n",
       "      <td>60000</td>\n",
       "    </tr>\n",
       "  </tbody>\n",
       "</table>\n",
       "</div>"
      ],
      "text/plain": [
       "    Name  Age  Salary\n",
       "0  Alice   25   50000\n",
       "1    Bob   30   60000"
      ]
     },
     "execution_count": 80,
     "metadata": {},
     "output_type": "execute_result"
    }
   ],
   "source": [
    "df1"
   ]
  },
  {
   "cell_type": "code",
   "execution_count": 81,
   "id": "52ae2dc7",
   "metadata": {},
   "outputs": [
    {
     "data": {
      "text/html": [
       "<div>\n",
       "<style scoped>\n",
       "    .dataframe tbody tr th:only-of-type {\n",
       "        vertical-align: middle;\n",
       "    }\n",
       "\n",
       "    .dataframe tbody tr th {\n",
       "        vertical-align: top;\n",
       "    }\n",
       "\n",
       "    .dataframe thead th {\n",
       "        text-align: right;\n",
       "    }\n",
       "</style>\n",
       "<table border=\"1\" class=\"dataframe\">\n",
       "  <thead>\n",
       "    <tr style=\"text-align: right;\">\n",
       "      <th></th>\n",
       "      <th>Name</th>\n",
       "      <th>Age</th>\n",
       "      <th>Salary</th>\n",
       "    </tr>\n",
       "  </thead>\n",
       "  <tbody>\n",
       "    <tr>\n",
       "      <th>0</th>\n",
       "      <td>Charlie</td>\n",
       "      <td>35</td>\n",
       "      <td>70000</td>\n",
       "    </tr>\n",
       "    <tr>\n",
       "      <th>1</th>\n",
       "      <td>David</td>\n",
       "      <td>40</td>\n",
       "      <td>80000</td>\n",
       "    </tr>\n",
       "  </tbody>\n",
       "</table>\n",
       "</div>"
      ],
      "text/plain": [
       "      Name  Age  Salary\n",
       "0  Charlie   35   70000\n",
       "1    David   40   80000"
      ]
     },
     "execution_count": 81,
     "metadata": {},
     "output_type": "execute_result"
    }
   ],
   "source": [
    "df2"
   ]
  },
  {
   "cell_type": "code",
   "execution_count": 82,
   "id": "0004c82b",
   "metadata": {},
   "outputs": [],
   "source": [
    "# concat DataFrames vertically\n",
    "df_concat =pd.concat([df1,df2], ignore_index = True)"
   ]
  },
  {
   "cell_type": "code",
   "execution_count": 83,
   "id": "4e652e9e",
   "metadata": {},
   "outputs": [
    {
     "data": {
      "text/html": [
       "<div>\n",
       "<style scoped>\n",
       "    .dataframe tbody tr th:only-of-type {\n",
       "        vertical-align: middle;\n",
       "    }\n",
       "\n",
       "    .dataframe tbody tr th {\n",
       "        vertical-align: top;\n",
       "    }\n",
       "\n",
       "    .dataframe thead th {\n",
       "        text-align: right;\n",
       "    }\n",
       "</style>\n",
       "<table border=\"1\" class=\"dataframe\">\n",
       "  <thead>\n",
       "    <tr style=\"text-align: right;\">\n",
       "      <th></th>\n",
       "      <th>Name</th>\n",
       "      <th>Age</th>\n",
       "      <th>Salary</th>\n",
       "    </tr>\n",
       "  </thead>\n",
       "  <tbody>\n",
       "    <tr>\n",
       "      <th>0</th>\n",
       "      <td>Alice</td>\n",
       "      <td>25</td>\n",
       "      <td>50000</td>\n",
       "    </tr>\n",
       "    <tr>\n",
       "      <th>1</th>\n",
       "      <td>Bob</td>\n",
       "      <td>30</td>\n",
       "      <td>60000</td>\n",
       "    </tr>\n",
       "    <tr>\n",
       "      <th>2</th>\n",
       "      <td>Charlie</td>\n",
       "      <td>35</td>\n",
       "      <td>70000</td>\n",
       "    </tr>\n",
       "    <tr>\n",
       "      <th>3</th>\n",
       "      <td>David</td>\n",
       "      <td>40</td>\n",
       "      <td>80000</td>\n",
       "    </tr>\n",
       "  </tbody>\n",
       "</table>\n",
       "</div>"
      ],
      "text/plain": [
       "      Name  Age  Salary\n",
       "0    Alice   25   50000\n",
       "1      Bob   30   60000\n",
       "2  Charlie   35   70000\n",
       "3    David   40   80000"
      ]
     },
     "execution_count": 83,
     "metadata": {},
     "output_type": "execute_result"
    }
   ],
   "source": [
    "df_concat"
   ]
  },
  {
   "cell_type": "code",
   "execution_count": 84,
   "id": "26dc1e37",
   "metadata": {},
   "outputs": [],
   "source": [
    "# concat dataFrames horizantally\n",
    "df_concat_horizantal =pd.concat([df1,df2], axis=1)"
   ]
  },
  {
   "cell_type": "code",
   "execution_count": 85,
   "id": "51aba0ad",
   "metadata": {},
   "outputs": [
    {
     "data": {
      "text/html": [
       "<div>\n",
       "<style scoped>\n",
       "    .dataframe tbody tr th:only-of-type {\n",
       "        vertical-align: middle;\n",
       "    }\n",
       "\n",
       "    .dataframe tbody tr th {\n",
       "        vertical-align: top;\n",
       "    }\n",
       "\n",
       "    .dataframe thead th {\n",
       "        text-align: right;\n",
       "    }\n",
       "</style>\n",
       "<table border=\"1\" class=\"dataframe\">\n",
       "  <thead>\n",
       "    <tr style=\"text-align: right;\">\n",
       "      <th></th>\n",
       "      <th>Name</th>\n",
       "      <th>Age</th>\n",
       "      <th>Salary</th>\n",
       "      <th>Name</th>\n",
       "      <th>Age</th>\n",
       "      <th>Salary</th>\n",
       "    </tr>\n",
       "  </thead>\n",
       "  <tbody>\n",
       "    <tr>\n",
       "      <th>0</th>\n",
       "      <td>Alice</td>\n",
       "      <td>25</td>\n",
       "      <td>50000</td>\n",
       "      <td>Charlie</td>\n",
       "      <td>35</td>\n",
       "      <td>70000</td>\n",
       "    </tr>\n",
       "    <tr>\n",
       "      <th>1</th>\n",
       "      <td>Bob</td>\n",
       "      <td>30</td>\n",
       "      <td>60000</td>\n",
       "      <td>David</td>\n",
       "      <td>40</td>\n",
       "      <td>80000</td>\n",
       "    </tr>\n",
       "  </tbody>\n",
       "</table>\n",
       "</div>"
      ],
      "text/plain": [
       "    Name  Age  Salary     Name  Age  Salary\n",
       "0  Alice   25   50000  Charlie   35   70000\n",
       "1    Bob   30   60000    David   40   80000"
      ]
     },
     "execution_count": 85,
     "metadata": {},
     "output_type": "execute_result"
    }
   ],
   "source": [
    "df_concat_horizantal"
   ]
  },
  {
   "cell_type": "markdown",
   "id": "cd10abd2",
   "metadata": {},
   "source": [
    "## **MERGE**"
   ]
  },
  {
   "cell_type": "markdown",
   "id": "34454a74",
   "metadata": {},
   "source": [
    "- `Merge` in pandas is used to combine two DataFrames based on one or more common columns (keys), similar to SQL joins.\n",
    "- It is useful when you need to bring together related information from different tables, such as combining user details with their transactions.\n",
    "- Use merge when your datasets share a common column and you want to perform operations like inner, outer, left, or right joins to control how rows are matched and included in the result."
   ]
  },
  {
   "cell_type": "code",
   "execution_count": 86,
   "id": "5e3b0bf7",
   "metadata": {},
   "outputs": [
    {
     "data": {
      "text/html": [
       "<div>\n",
       "<style scoped>\n",
       "    .dataframe tbody tr th:only-of-type {\n",
       "        vertical-align: middle;\n",
       "    }\n",
       "\n",
       "    .dataframe tbody tr th {\n",
       "        vertical-align: top;\n",
       "    }\n",
       "\n",
       "    .dataframe thead th {\n",
       "        text-align: right;\n",
       "    }\n",
       "</style>\n",
       "<table border=\"1\" class=\"dataframe\">\n",
       "  <thead>\n",
       "    <tr style=\"text-align: right;\">\n",
       "      <th></th>\n",
       "      <th>Name</th>\n",
       "      <th>Age</th>\n",
       "    </tr>\n",
       "  </thead>\n",
       "  <tbody>\n",
       "    <tr>\n",
       "      <th>0</th>\n",
       "      <td>Alice</td>\n",
       "      <td>20</td>\n",
       "    </tr>\n",
       "    <tr>\n",
       "      <th>1</th>\n",
       "      <td>Bob</td>\n",
       "      <td>34</td>\n",
       "    </tr>\n",
       "  </tbody>\n",
       "</table>\n",
       "</div>"
      ],
      "text/plain": [
       "    Name  Age\n",
       "0  Alice   20\n",
       "1    Bob   34"
      ]
     },
     "execution_count": 86,
     "metadata": {},
     "output_type": "execute_result"
    }
   ],
   "source": [
    "# Merging DataFrames\n",
    "df1 = pd.DataFrame({\n",
    "    \"Name\" : [\"Alice\",\"Bob\"],\n",
    "    \"Age\" :  [20,34]\n",
    "})\n",
    "df1"
   ]
  },
  {
   "cell_type": "code",
   "execution_count": 87,
   "id": "ba498cb4",
   "metadata": {},
   "outputs": [
    {
     "data": {
      "text/html": [
       "<div>\n",
       "<style scoped>\n",
       "    .dataframe tbody tr th:only-of-type {\n",
       "        vertical-align: middle;\n",
       "    }\n",
       "\n",
       "    .dataframe tbody tr th {\n",
       "        vertical-align: top;\n",
       "    }\n",
       "\n",
       "    .dataframe thead th {\n",
       "        text-align: right;\n",
       "    }\n",
       "</style>\n",
       "<table border=\"1\" class=\"dataframe\">\n",
       "  <thead>\n",
       "    <tr style=\"text-align: right;\">\n",
       "      <th></th>\n",
       "      <th>Name</th>\n",
       "      <th>Salary</th>\n",
       "    </tr>\n",
       "  </thead>\n",
       "  <tbody>\n",
       "    <tr>\n",
       "      <th>0</th>\n",
       "      <td>ALice</td>\n",
       "      <td>40000</td>\n",
       "    </tr>\n",
       "    <tr>\n",
       "      <th>1</th>\n",
       "      <td>Charlie</td>\n",
       "      <td>45000</td>\n",
       "    </tr>\n",
       "  </tbody>\n",
       "</table>\n",
       "</div>"
      ],
      "text/plain": [
       "      Name  Salary\n",
       "0    ALice   40000\n",
       "1  Charlie   45000"
      ]
     },
     "execution_count": 87,
     "metadata": {},
     "output_type": "execute_result"
    }
   ],
   "source": [
    "df2 = pd.DataFrame({\n",
    "    \"Name\" : [\"ALice\",\"Charlie\"],\n",
    "    \"Salary\" : [40000,45000]\n",
    "})\n",
    "df2"
   ]
  },
  {
   "cell_type": "code",
   "execution_count": 88,
   "id": "07c2a011",
   "metadata": {},
   "outputs": [
    {
     "name": "stdout",
     "output_type": "stream",
     "text": [
      "Empty DataFrame\n",
      "Columns: [Name, Age, Salary]\n",
      "Index: []\n"
     ]
    }
   ],
   "source": [
    "df_merged = pd.merge(df1,df2, on=\"Name\")\n",
    "print(df_merged)"
   ]
  },
  {
   "cell_type": "code",
   "execution_count": 89,
   "id": "f58809f1",
   "metadata": {},
   "outputs": [
    {
     "name": "stdout",
     "output_type": "stream",
     "text": [
      "Empty DataFrame\n",
      "Columns: [Name, Age, Salary]\n",
      "Index: []\n"
     ]
    }
   ],
   "source": [
    "df_merged = pd.merge(df1, df2, on='Name')\n",
    "print(df_merged)"
   ]
  },
  {
   "cell_type": "code",
   "execution_count": 90,
   "id": "454e592f",
   "metadata": {},
   "outputs": [
    {
     "name": "stdout",
     "output_type": "stream",
     "text": [
      "      Name   Age   Salary\n",
      "0    ALice   NaN  40000.0\n",
      "1    Alice  20.0      NaN\n",
      "2      Bob  34.0      NaN\n",
      "3  Charlie   NaN  45000.0\n"
     ]
    }
   ],
   "source": [
    "# merge df1 and df2 on \"Name\"\n",
    "df_merged = pd.merge(df1, df2,on='Name',how='outer')\n",
    "print(df_merged)"
   ]
  },
  {
   "cell_type": "code",
   "execution_count": 91,
   "id": "bd4b5b2d",
   "metadata": {},
   "outputs": [
    {
     "data": {
      "text/html": [
       "<div>\n",
       "<style scoped>\n",
       "    .dataframe tbody tr th:only-of-type {\n",
       "        vertical-align: middle;\n",
       "    }\n",
       "\n",
       "    .dataframe tbody tr th {\n",
       "        vertical-align: top;\n",
       "    }\n",
       "\n",
       "    .dataframe thead th {\n",
       "        text-align: right;\n",
       "    }\n",
       "</style>\n",
       "<table border=\"1\" class=\"dataframe\">\n",
       "  <thead>\n",
       "    <tr style=\"text-align: right;\">\n",
       "      <th></th>\n",
       "      <th>Name</th>\n",
       "      <th>Age</th>\n",
       "    </tr>\n",
       "  </thead>\n",
       "  <tbody>\n",
       "    <tr>\n",
       "      <th>0</th>\n",
       "      <td>Alice</td>\n",
       "      <td>20</td>\n",
       "    </tr>\n",
       "    <tr>\n",
       "      <th>1</th>\n",
       "      <td>Bob</td>\n",
       "      <td>34</td>\n",
       "    </tr>\n",
       "  </tbody>\n",
       "</table>\n",
       "</div>"
      ],
      "text/plain": [
       "    Name  Age\n",
       "0  Alice   20\n",
       "1    Bob   34"
      ]
     },
     "execution_count": 91,
     "metadata": {},
     "output_type": "execute_result"
    }
   ],
   "source": [
    "df1"
   ]
  },
  {
   "cell_type": "code",
   "execution_count": 92,
   "id": "d2b3655c",
   "metadata": {},
   "outputs": [
    {
     "data": {
      "text/html": [
       "<div>\n",
       "<style scoped>\n",
       "    .dataframe tbody tr th:only-of-type {\n",
       "        vertical-align: middle;\n",
       "    }\n",
       "\n",
       "    .dataframe tbody tr th {\n",
       "        vertical-align: top;\n",
       "    }\n",
       "\n",
       "    .dataframe thead th {\n",
       "        text-align: right;\n",
       "    }\n",
       "</style>\n",
       "<table border=\"1\" class=\"dataframe\">\n",
       "  <thead>\n",
       "    <tr style=\"text-align: right;\">\n",
       "      <th></th>\n",
       "      <th>Name</th>\n",
       "      <th>Salary</th>\n",
       "    </tr>\n",
       "  </thead>\n",
       "  <tbody>\n",
       "    <tr>\n",
       "      <th>0</th>\n",
       "      <td>ALice</td>\n",
       "      <td>40000</td>\n",
       "    </tr>\n",
       "    <tr>\n",
       "      <th>1</th>\n",
       "      <td>Charlie</td>\n",
       "      <td>45000</td>\n",
       "    </tr>\n",
       "  </tbody>\n",
       "</table>\n",
       "</div>"
      ],
      "text/plain": [
       "      Name  Salary\n",
       "0    ALice   40000\n",
       "1  Charlie   45000"
      ]
     },
     "execution_count": 92,
     "metadata": {},
     "output_type": "execute_result"
    }
   ],
   "source": [
    "df2"
   ]
  },
  {
   "cell_type": "code",
   "execution_count": 93,
   "id": "b84b3354",
   "metadata": {},
   "outputs": [
    {
     "name": "stdout",
     "output_type": "stream",
     "text": [
      "    Name  Age  Salary\n",
      "0  Alice   20     NaN\n",
      "1    Bob   34     NaN\n"
     ]
    }
   ],
   "source": [
    "# merge df1 and df2 on \"Name\"\n",
    "df_merged = pd.merge(df1,df2, on=\"Name\", how=\"left\")\n",
    "print(df_merged)"
   ]
  },
  {
   "cell_type": "code",
   "execution_count": 94,
   "id": "4888d4c4",
   "metadata": {},
   "outputs": [
    {
     "name": "stdout",
     "output_type": "stream",
     "text": [
      "      Name  Age  Salary\n",
      "0    ALice  NaN   40000\n",
      "1  Charlie  NaN   45000\n"
     ]
    }
   ],
   "source": [
    "df_merged = pd.merge(df1, df2 ,on=\"Name\", how=\"right\")\n",
    "print(df_merged)"
   ]
  },
  {
   "cell_type": "markdown",
   "id": "c08ae611",
   "metadata": {},
   "source": [
    "## **Join**"
   ]
  },
  {
   "cell_type": "markdown",
   "id": "cce58379",
   "metadata": {},
   "source": [
    "- `join` in pandas is a method used to combine two DataFrames based on their indexes (row labels), rather than columns.\n",
    "- It is useful when you want to add columns from another DataFrame whose index matches the index of the original DataFrame.\n",
    "- Use `join` when your datasets are aligned by index, or when you want to combine data without specifying a common column key."
   ]
  },
  {
   "cell_type": "code",
   "execution_count": 95,
   "id": "cf579b96",
   "metadata": {},
   "outputs": [],
   "source": [
    "# join dataframes\n",
    "df1 = pd.DataFrame({\n",
    "    \"Name\" : [\"Alice\",\"Bob\"],\n",
    "    \"Age\" : [20,30]\n",
    "})\n",
    "df2 = pd.DataFrame({\n",
    "    \"Salary\" :[50000,60000],\n",
    "}, index=[\"Alice\",\"Bob\"])"
   ]
  },
  {
   "cell_type": "code",
   "execution_count": 96,
   "id": "eb822597",
   "metadata": {},
   "outputs": [
    {
     "data": {
      "text/html": [
       "<div>\n",
       "<style scoped>\n",
       "    .dataframe tbody tr th:only-of-type {\n",
       "        vertical-align: middle;\n",
       "    }\n",
       "\n",
       "    .dataframe tbody tr th {\n",
       "        vertical-align: top;\n",
       "    }\n",
       "\n",
       "    .dataframe thead th {\n",
       "        text-align: right;\n",
       "    }\n",
       "</style>\n",
       "<table border=\"1\" class=\"dataframe\">\n",
       "  <thead>\n",
       "    <tr style=\"text-align: right;\">\n",
       "      <th></th>\n",
       "      <th>Name</th>\n",
       "      <th>Age</th>\n",
       "    </tr>\n",
       "  </thead>\n",
       "  <tbody>\n",
       "    <tr>\n",
       "      <th>0</th>\n",
       "      <td>Alice</td>\n",
       "      <td>20</td>\n",
       "    </tr>\n",
       "    <tr>\n",
       "      <th>1</th>\n",
       "      <td>Bob</td>\n",
       "      <td>30</td>\n",
       "    </tr>\n",
       "  </tbody>\n",
       "</table>\n",
       "</div>"
      ],
      "text/plain": [
       "    Name  Age\n",
       "0  Alice   20\n",
       "1    Bob   30"
      ]
     },
     "execution_count": 96,
     "metadata": {},
     "output_type": "execute_result"
    }
   ],
   "source": [
    "df1"
   ]
  },
  {
   "cell_type": "code",
   "execution_count": 97,
   "id": "93b46370",
   "metadata": {},
   "outputs": [
    {
     "data": {
      "text/html": [
       "<div>\n",
       "<style scoped>\n",
       "    .dataframe tbody tr th:only-of-type {\n",
       "        vertical-align: middle;\n",
       "    }\n",
       "\n",
       "    .dataframe tbody tr th {\n",
       "        vertical-align: top;\n",
       "    }\n",
       "\n",
       "    .dataframe thead th {\n",
       "        text-align: right;\n",
       "    }\n",
       "</style>\n",
       "<table border=\"1\" class=\"dataframe\">\n",
       "  <thead>\n",
       "    <tr style=\"text-align: right;\">\n",
       "      <th></th>\n",
       "      <th>Salary</th>\n",
       "    </tr>\n",
       "  </thead>\n",
       "  <tbody>\n",
       "    <tr>\n",
       "      <th>Alice</th>\n",
       "      <td>50000</td>\n",
       "    </tr>\n",
       "    <tr>\n",
       "      <th>Bob</th>\n",
       "      <td>60000</td>\n",
       "    </tr>\n",
       "  </tbody>\n",
       "</table>\n",
       "</div>"
      ],
      "text/plain": [
       "       Salary\n",
       "Alice   50000\n",
       "Bob     60000"
      ]
     },
     "execution_count": 97,
     "metadata": {},
     "output_type": "execute_result"
    }
   ],
   "source": [
    "df2"
   ]
  },
  {
   "cell_type": "code",
   "execution_count": 98,
   "id": "bcb5b1b6",
   "metadata": {},
   "outputs": [
    {
     "name": "stdout",
     "output_type": "stream",
     "text": [
      "Empty DataFrame\n",
      "Columns: [Name, Age, Salary]\n",
      "Index: []\n"
     ]
    }
   ],
   "source": [
    "df_joined = df1.join(df2, how=\"inner\")\n",
    "print(df_joined)"
   ]
  },
  {
   "cell_type": "code",
   "execution_count": 99,
   "id": "12f34c55",
   "metadata": {},
   "outputs": [
    {
     "name": "stdout",
     "output_type": "stream",
     "text": [
      "    Name  Age  Salary\n",
      "0  Alice   20     NaN\n",
      "1    Bob   30     NaN\n"
     ]
    }
   ],
   "source": [
    "df_joined = df1.join(df2, how=\"left\")\n",
    "print(df_joined)"
   ]
  },
  {
   "cell_type": "code",
   "execution_count": 100,
   "id": "50e6af64",
   "metadata": {},
   "outputs": [
    {
     "name": "stdout",
     "output_type": "stream",
     "text": [
      "      Name  Age  Salary\n",
      "Alice  NaN  NaN   50000\n",
      "Bob    NaN  NaN   60000\n"
     ]
    }
   ],
   "source": [
    "df_joined = df1.join(df2, how=\"right\")\n",
    "print(df_joined)"
   ]
  },
  {
   "cell_type": "markdown",
   "id": "faebc00a",
   "metadata": {},
   "source": [
    "## **Time Series Data**"
   ]
  },
  {
   "cell_type": "code",
   "execution_count": 101,
   "id": "cee25560",
   "metadata": {},
   "outputs": [
    {
     "name": "stdout",
     "output_type": "stream",
     "text": [
      "        date\n",
      "0 2023-01-01\n",
      "1 2023-01-02\n",
      "2 2023-01-03\n",
      "3 2023-01-04\n",
      "4 2023-01-05\n",
      "5 2023-01-06\n",
      "6 2023-01-07\n",
      "7 2023-01-08\n",
      "8 2023-01-09\n",
      "9 2023-01-10\n"
     ]
    }
   ],
   "source": [
    "# dataframes\n",
    "date_rng =pd.date_range(start=\"2023-01-01\",end =\"2023-01-10\",freq =\"D\")\n",
    "ts_df = pd.DataFrame(date_rng, columns=[\"date\"])\n",
    "print(ts_df)"
   ]
  },
  {
   "cell_type": "code",
   "execution_count": 102,
   "id": "eb1057e1",
   "metadata": {},
   "outputs": [
    {
     "name": "stdout",
     "output_type": "stream",
     "text": [
      "        Date  Value\n",
      "0 2023-01-01     10\n",
      "1 2023-01-02     20\n",
      "2 2023-01-03     30\n"
     ]
    }
   ],
   "source": [
    "import pandas as pd\n",
    "# Sample data with dates as strings\n",
    "data= {\n",
    "    \"Date\" : [ \"2023-01-01\" , \"2023-01-02\" , \"2023-01-03\" ],\n",
    "    \"Value\" : [10,20,30]\n",
    "}\n",
    "df= pd.DataFrame(data)\n",
    "# Convert \"Date\" column to detetime\n",
    "df[\"Date\"] =pd.to_datetime(df[\"Date\"])\n",
    "print(df)"
   ]
  },
  {
   "cell_type": "code",
   "execution_count": 103,
   "id": "d77fd342",
   "metadata": {},
   "outputs": [
    {
     "name": "stdout",
     "output_type": "stream",
     "text": [
      "            Value\n",
      "Date             \n",
      "2023-01-01     10\n",
      "2023-01-02     20\n",
      "2023-01-03     30\n"
     ]
    }
   ],
   "source": [
    "df.set_index(\"Date\", inplace=True)\n",
    "print(df)"
   ]
  },
  {
   "cell_type": "markdown",
   "id": "f5d2c3b7",
   "metadata": {},
   "source": [
    "## **Resampling**"
   ]
  },
  {
   "cell_type": "code",
   "execution_count": 104,
   "id": "d000e5d6",
   "metadata": {},
   "outputs": [
    {
     "name": "stdout",
     "output_type": "stream",
     "text": [
      "            Value\n",
      "Date             \n",
      "2023-01-31   20.0\n",
      "2023-02-28   40.0\n"
     ]
    },
    {
     "name": "stderr",
     "output_type": "stream",
     "text": [
      "C:\\Users\\lenovo\\AppData\\Local\\Temp\\ipykernel_12224\\50922776.py:13: FutureWarning: 'M' is deprecated and will be removed in a future version, please use 'ME' instead.\n",
      "  monthly_avg = df.resample('M').mean()\n"
     ]
    }
   ],
   "source": [
    "import pandas as pd\n",
    "\n",
    "# Sample data\n",
    "data = {\n",
    "    'Date': ['2023-01-01', '2023-01-02', '2023-01-15', '2023-02-01'],\n",
    "    'Value': [10, 20, 30, 40]\n",
    "}\n",
    "df = pd.DataFrame(data)\n",
    "df['Date'] = pd.to_datetime(df['Date'])\n",
    "df.set_index('Date', inplace=True)\n",
    "\n",
    "# Monthly average\n",
    "monthly_avg = df.resample('M').mean()\n",
    "print(monthly_avg)"
   ]
  },
  {
   "cell_type": "markdown",
   "id": "a5ff0b8b",
   "metadata": {},
   "source": [
    "## **Time Base Selection**"
   ]
  },
  {
   "cell_type": "code",
   "execution_count": 105,
   "id": "a934cec4",
   "metadata": {},
   "outputs": [
    {
     "name": "stdout",
     "output_type": "stream",
     "text": [
      "            Value\n",
      "Date             \n",
      "2023-01-01     10\n",
      "2023-01-02     20\n",
      "2023-01-15     30\n"
     ]
    }
   ],
   "source": [
    "# Assuming your DataFrame index is datetime\n",
    "# Select all rows from January 2023\n",
    "january_data = df.loc['2023-01-01':'2023-01-31']\n",
    "print(january_data)"
   ]
  },
  {
   "cell_type": "markdown",
   "id": "92fb2000",
   "metadata": {},
   "source": [
    "## **Shifting Data**"
   ]
  },
  {
   "cell_type": "code",
   "execution_count": 106,
   "id": "e6c66c19",
   "metadata": {},
   "outputs": [
    {
     "name": "stdout",
     "output_type": "stream",
     "text": [
      "            Value  prevday\n",
      "Date                      \n",
      "2023-01-01     10      NaN\n",
      "2023-01-02     20     10.0\n",
      "2023-01-15     30     20.0\n",
      "2023-02-01     40     30.0\n"
     ]
    }
   ],
   "source": [
    "df[\"prevday\"] = df[\"Value\"]. shift(1)\n",
    "print(df)"
   ]
  },
  {
   "cell_type": "markdown",
   "id": "214f3ea0",
   "metadata": {},
   "source": [
    "## **Handling Text Data**"
   ]
  },
  {
   "cell_type": "code",
   "execution_count": 107,
   "id": "ead791fe",
   "metadata": {},
   "outputs": [
    {
     "name": "stdout",
     "output_type": "stream",
     "text": [
      "      Name  Age\n",
      "0    Alice   25\n",
      "1      Bob   30\n",
      "2  Charlie   35\n",
      "3    David   40\n"
     ]
    }
   ],
   "source": [
    "import pandas as pd\n",
    "data ={\n",
    "    \"Name\" : [\"Alice\",\"Bob\",\"Charlie\",\"David\"],\n",
    "    \"Age\" : [25,30,35,40]\n",
    "}\n",
    "df = pd.DataFrame(data)\n",
    "print(df)"
   ]
  },
  {
   "cell_type": "markdown",
   "id": "378850b7",
   "metadata": {},
   "source": [
    "## **Convert all names to lowercase**"
   ]
  },
  {
   "cell_type": "code",
   "execution_count": 108,
   "id": "91ee6a6c",
   "metadata": {},
   "outputs": [],
   "source": [
    "ab = df['Name'].str.lower()        "
   ]
  },
  {
   "cell_type": "code",
   "execution_count": 109,
   "id": "1d29795a",
   "metadata": {},
   "outputs": [
    {
     "data": {
      "text/plain": [
       "0      alice\n",
       "1        bob\n",
       "2    charlie\n",
       "3      david\n",
       "Name: Name, dtype: object"
      ]
     },
     "execution_count": 109,
     "metadata": {},
     "output_type": "execute_result"
    }
   ],
   "source": [
    "ab"
   ]
  },
  {
   "cell_type": "markdown",
   "id": "e169d0a9",
   "metadata": {},
   "source": [
    "## **check if \"a\" in string**"
   ]
  },
  {
   "cell_type": "code",
   "execution_count": 110,
   "id": "f9ca6973",
   "metadata": {},
   "outputs": [
    {
     "data": {
      "text/plain": [
       "0    False\n",
       "1     True\n",
       "2    False\n",
       "3    False\n",
       "Name: Name, dtype: bool"
      ]
     },
     "execution_count": 110,
     "metadata": {},
     "output_type": "execute_result"
    }
   ],
   "source": [
    "df['Name'].str.contains('b')  # Returns True if 'a' is in the name, else False"
   ]
  },
  {
   "cell_type": "markdown",
   "id": "dc0a772a",
   "metadata": {},
   "source": [
    "## **Extracting the first letter of each name**"
   ]
  },
  {
   "cell_type": "code",
   "execution_count": 111,
   "id": "bdcb68f5",
   "metadata": {},
   "outputs": [
    {
     "name": "stdout",
     "output_type": "stream",
     "text": [
      "      Name  Age\n",
      "0    Alice   25\n",
      "1      Bob   30\n",
      "2  Charlie   35\n",
      "3    David   40\n"
     ]
    }
   ],
   "source": [
    "import pandas as pd\n",
    "\n",
    "# Sample DataFrame\n",
    "data = {\n",
    "    'Name': ['Alice', 'Bob', 'Charlie', 'David'],\n",
    "    'Age': [25, 30, 35, 40]\n",
    "}\n",
    "df = pd.DataFrame(data)\n",
    "print(df)\n"
   ]
  },
  {
   "cell_type": "code",
   "execution_count": 112,
   "id": "c08b38de",
   "metadata": {},
   "outputs": [
    {
     "name": "stdout",
     "output_type": "stream",
     "text": [
      "      Name  Age Initial\n",
      "0    Alice   25       A\n",
      "1      Bob   30       B\n",
      "2  Charlie   35       C\n",
      "3    David   40       D\n"
     ]
    }
   ],
   "source": [
    "# Extracting the first letter of each name\n",
    "df['Initial'] = df['Name'].str[0]\n",
    "print(df)"
   ]
  },
  {
   "cell_type": "markdown",
   "id": "181eb3f3",
   "metadata": {},
   "source": [
    "#### **Split the 'Name' column by space**"
   ]
  },
  {
   "cell_type": "code",
   "execution_count": 113,
   "id": "62860a86",
   "metadata": {},
   "outputs": [
    {
     "name": "stdout",
     "output_type": "stream",
     "text": [
      "            Name  Age\n",
      "0    Alice Smith   25\n",
      "1        Bob Lee   30\n",
      "2  Charlie Brown   35\n",
      "3   David Miller   40\n"
     ]
    }
   ],
   "source": [
    "import pandas as pd\n",
    "\n",
    "data = {\n",
    "    'Name': ['Alice Smith', 'Bob Lee', 'Charlie Brown', 'David Miller'],\n",
    "    'Age': [25, 30, 35, 40]\n",
    "}\n",
    "df = pd.DataFrame(data)\n",
    "print(df)"
   ]
  },
  {
   "cell_type": "code",
   "execution_count": 114,
   "id": "1d92e560",
   "metadata": {},
   "outputs": [
    {
     "name": "stdout",
     "output_type": "stream",
     "text": [
      "            Name  Age        Name_Split\n",
      "0    Alice Smith   25    [Alice, Smith]\n",
      "1        Bob Lee   30        [Bob, Lee]\n",
      "2  Charlie Brown   35  [Charlie, Brown]\n",
      "3   David Miller   40   [David, Miller]\n"
     ]
    }
   ],
   "source": [
    "# Split the 'Name' column by space\n",
    "df['Name_Split'] = df['Name'].str.split(' ')\n",
    "print(df)"
   ]
  },
  {
   "cell_type": "code",
   "execution_count": 115,
   "id": "45f40699",
   "metadata": {},
   "outputs": [
    {
     "name": "stdout",
     "output_type": "stream",
     "text": [
      "            Name  Age\n",
      "0    Alice.Smith   25\n",
      "1        Bob.Lee   30\n",
      "2  Charlie.Brown   35\n",
      "3   David.Miller   40\n"
     ]
    }
   ],
   "source": [
    "import pandas as pd\n",
    "\n",
    "data = {\n",
    "    'Name': ['Alice.Smith', 'Bob.Lee', 'Charlie.Brown', 'David.Miller'],\n",
    "    'Age': [25, 30, 35, 40]\n",
    "}\n",
    "df = pd.DataFrame(data)\n",
    "print(df)"
   ]
  },
  {
   "cell_type": "code",
   "execution_count": 116,
   "id": "febd6e79",
   "metadata": {},
   "outputs": [
    {
     "name": "stdout",
     "output_type": "stream",
     "text": [
      "            Name  Age        Name_Split\n",
      "0    Alice.Smith   25    [Alice, Smith]\n",
      "1        Bob.Lee   30        [Bob, Lee]\n",
      "2  Charlie.Brown   35  [Charlie, Brown]\n",
      "3   David.Miller   40   [David, Miller]\n"
     ]
    }
   ],
   "source": [
    "# Split the 'Name' column by space\n",
    "df['Name_Split'] = df['Name'].str.split('.')\n",
    "print(df)"
   ]
  },
  {
   "cell_type": "markdown",
   "id": "6d585146",
   "metadata": {},
   "source": [
    "## **Replace 'Alice' with 'Alicia' in the 'Name' column**"
   ]
  },
  {
   "cell_type": "code",
   "execution_count": 117,
   "id": "6a524820",
   "metadata": {},
   "outputs": [
    {
     "name": "stdout",
     "output_type": "stream",
     "text": [
      "            Name  Age\n",
      "0    Alice Smith   25\n",
      "1        Bob Lee   30\n",
      "2  Charlie Brown   35\n",
      "3   David Miller   40\n"
     ]
    }
   ],
   "source": [
    "import pandas as pd\n",
    "\n",
    "data = {\n",
    "    'Name': ['Alice Smith', 'Bob Lee', 'Charlie Brown', 'David Miller'],\n",
    "    'Age': [25, 30, 35, 40]\n",
    "}\n",
    "df = pd.DataFrame(data)\n",
    "print(df)"
   ]
  },
  {
   "cell_type": "code",
   "execution_count": 118,
   "id": "f3be19b0",
   "metadata": {},
   "outputs": [
    {
     "name": "stdout",
     "output_type": "stream",
     "text": [
      "            Name  Age\n",
      "0   Alicia Smith   25\n",
      "1        Bob Lee   30\n",
      "2  Charlie Brown   35\n",
      "3   David Miller   40\n"
     ]
    }
   ],
   "source": [
    "# Replace 'Alice' with 'Alicia' in the 'Name' column\n",
    "df['Name'] = df['Name'].str.replace('Alice', 'Alicia')\n",
    "print(df)"
   ]
  },
  {
   "cell_type": "markdown",
   "id": "2776878f",
   "metadata": {},
   "source": [
    "### **Pivot Tables & Crosstabs** "
   ]
  },
  {
   "cell_type": "markdown",
   "id": "53c624e7",
   "metadata": {},
   "source": [
    "#### **Create a pivot table: mean income by AgeGroup and Gender**"
   ]
  },
  {
   "cell_type": "code",
   "execution_count": 119,
   "id": "b8ce2acf",
   "metadata": {},
   "outputs": [
    {
     "name": "stdout",
     "output_type": "stream",
     "text": [
      "  AgeGroup  Gender  Income\n",
      "0    20-29    Male   40000\n",
      "1    20-29  Female   42000\n",
      "2    30-39    Male   50000\n",
      "3    30-39  Female   52000\n",
      "4    20-29  Female   43000\n"
     ]
    }
   ],
   "source": [
    "import pandas as pd\n",
    "\n",
    "# Sample DataFrame for pivot table\n",
    "data = {\n",
    "    'AgeGroup': ['20-29', '20-29', '30-39', '30-39', '20-29'],\n",
    "    'Gender': ['Male', 'Female', 'Male', 'Female', 'Female'],\n",
    "    'Income': [40000, 42000, 50000, 52000, 43000]\n",
    "}\n",
    "df = pd.DataFrame(data)\n",
    "print(df)\n"
   ]
  },
  {
   "cell_type": "code",
   "execution_count": 120,
   "id": "78e4cbd9",
   "metadata": {},
   "outputs": [
    {
     "name": "stdout",
     "output_type": "stream",
     "text": [
      "Gender     Female     Male\n",
      "AgeGroup                  \n",
      "20-29     42500.0  40000.0\n",
      "30-39     52000.0  50000.0\n"
     ]
    }
   ],
   "source": [
    "# Create a pivot table: mean income by AgeGroup and Gender\n",
    "pivot = pd.pivot_table(df, values='Income', index='AgeGroup', columns='Gender', aggfunc='mean')\n",
    "print(pivot)"
   ]
  },
  {
   "cell_type": "markdown",
   "id": "542543f5",
   "metadata": {},
   "source": [
    "#### **Compute frequency table (crosstab) of AgeGroup vs Gender**"
   ]
  },
  {
   "cell_type": "code",
   "execution_count": 121,
   "id": "52745a0e",
   "metadata": {},
   "outputs": [
    {
     "name": "stdout",
     "output_type": "stream",
     "text": [
      "  AgeGroup  Gender  Income\n",
      "0    20-29    Male   40000\n",
      "1    20-29  Female   42000\n",
      "2    30-39    Male   50000\n",
      "3    30-39  Female   52000\n",
      "4    20-29  Female   43000\n"
     ]
    }
   ],
   "source": [
    "import pandas as pd\n",
    "\n",
    "# Sample DataFrame for crosstab\n",
    "data = {\n",
    "    'AgeGroup': ['20-29', '20-29', '30-39', '30-39', '20-29'],\n",
    "    'Gender': ['Male', 'Female', 'Male', 'Female', 'Female'],\n",
    "    'Income': [40000, 42000, 50000, 52000, 43000]\n",
    "}\n",
    "df = pd.DataFrame(data)\n",
    "print(df)\n"
   ]
  },
  {
   "cell_type": "code",
   "execution_count": 122,
   "id": "7d0525d0",
   "metadata": {},
   "outputs": [
    {
     "name": "stdout",
     "output_type": "stream",
     "text": [
      "Gender    Female  Male\n",
      "AgeGroup              \n",
      "20-29          2     1\n",
      "30-39          1     1\n"
     ]
    }
   ],
   "source": [
    "# Compute frequency table (crosstab) of AgeGroup vs Gender\n",
    "crosstab = pd.crosstab(df['AgeGroup'], df['Gender'])\n",
    "print(crosstab)\n"
   ]
  },
  {
   "cell_type": "markdown",
   "id": "2d45ab45",
   "metadata": {},
   "source": [
    "### **Creating CSV File**"
   ]
  },
  {
   "cell_type": "code",
   "execution_count": 123,
   "id": "df39f98c",
   "metadata": {},
   "outputs": [
    {
     "data": {
      "text/html": [
       "<div>\n",
       "<style scoped>\n",
       "    .dataframe tbody tr th:only-of-type {\n",
       "        vertical-align: middle;\n",
       "    }\n",
       "\n",
       "    .dataframe tbody tr th {\n",
       "        vertical-align: top;\n",
       "    }\n",
       "\n",
       "    .dataframe thead th {\n",
       "        text-align: right;\n",
       "    }\n",
       "</style>\n",
       "<table border=\"1\" class=\"dataframe\">\n",
       "  <thead>\n",
       "    <tr style=\"text-align: right;\">\n",
       "      <th></th>\n",
       "      <th>Name</th>\n",
       "      <th>Age</th>\n",
       "      <th>Salary</th>\n",
       "      <th>Gender</th>\n",
       "      <th>Date</th>\n",
       "      <th>Department</th>\n",
       "      <th>Has_Passed</th>\n",
       "      <th>Score</th>\n",
       "    </tr>\n",
       "  </thead>\n",
       "  <tbody>\n",
       "    <tr>\n",
       "      <th>0</th>\n",
       "      <td>Alice Smith</td>\n",
       "      <td>25.0</td>\n",
       "      <td>50000</td>\n",
       "      <td>Female</td>\n",
       "      <td>2023-01-01</td>\n",
       "      <td>HR</td>\n",
       "      <td>True</td>\n",
       "      <td>88.5</td>\n",
       "    </tr>\n",
       "    <tr>\n",
       "      <th>1</th>\n",
       "      <td>Bob Lee</td>\n",
       "      <td>30.0</td>\n",
       "      <td>60000</td>\n",
       "      <td>Male</td>\n",
       "      <td>2023-01-02</td>\n",
       "      <td>IT</td>\n",
       "      <td>False</td>\n",
       "      <td>92.0</td>\n",
       "    </tr>\n",
       "    <tr>\n",
       "      <th>2</th>\n",
       "      <td>Charlie Brown</td>\n",
       "      <td>35.0</td>\n",
       "      <td>70000</td>\n",
       "      <td>Male</td>\n",
       "      <td>2023-01-15</td>\n",
       "      <td>IT</td>\n",
       "      <td>True</td>\n",
       "      <td>NaN</td>\n",
       "    </tr>\n",
       "    <tr>\n",
       "      <th>3</th>\n",
       "      <td>David Miller</td>\n",
       "      <td>40.0</td>\n",
       "      <td>80000</td>\n",
       "      <td>Male</td>\n",
       "      <td>2023-02-01</td>\n",
       "      <td>Finance</td>\n",
       "      <td>True</td>\n",
       "      <td>85.0</td>\n",
       "    </tr>\n",
       "    <tr>\n",
       "      <th>4</th>\n",
       "      <td>Alice Smith</td>\n",
       "      <td>25.0</td>\n",
       "      <td>50000</td>\n",
       "      <td>Female</td>\n",
       "      <td>2023-01-01</td>\n",
       "      <td>HR</td>\n",
       "      <td>True</td>\n",
       "      <td>88.5</td>\n",
       "    </tr>\n",
       "    <tr>\n",
       "      <th>5</th>\n",
       "      <td>None</td>\n",
       "      <td>NaN</td>\n",
       "      <td>90000</td>\n",
       "      <td>Female</td>\n",
       "      <td>2023-03-01</td>\n",
       "      <td>Finance</td>\n",
       "      <td>False</td>\n",
       "      <td>79.0</td>\n",
       "    </tr>\n",
       "  </tbody>\n",
       "</table>\n",
       "</div>"
      ],
      "text/plain": [
       "            Name   Age  Salary  Gender        Date Department  Has_Passed  \\\n",
       "0    Alice Smith  25.0   50000  Female  2023-01-01         HR        True   \n",
       "1        Bob Lee  30.0   60000    Male  2023-01-02         IT       False   \n",
       "2  Charlie Brown  35.0   70000    Male  2023-01-15         IT        True   \n",
       "3   David Miller  40.0   80000    Male  2023-02-01    Finance        True   \n",
       "4    Alice Smith  25.0   50000  Female  2023-01-01         HR        True   \n",
       "5           None   NaN   90000  Female  2023-03-01    Finance       False   \n",
       "\n",
       "   Score  \n",
       "0   88.5  \n",
       "1   92.0  \n",
       "2    NaN  \n",
       "3   85.0  \n",
       "4   88.5  \n",
       "5   79.0  "
      ]
     },
     "execution_count": 123,
     "metadata": {},
     "output_type": "execute_result"
    }
   ],
   "source": [
    "import pandas as pd\n",
    "import numpy as np\n",
    "\n",
    "# Create a DataFrame with various data types and features\n",
    "data = {\n",
    "    'Name': ['Alice Smith', 'Bob Lee', 'Charlie Brown', 'David Miller', 'Alice Smith', None],\n",
    "    'Age': [25, 30, 35, 40, 25, np.nan],\n",
    "    'Salary': [50000, 60000, 70000, 80000, 50000, 90000],\n",
    "    'Gender': ['Female', 'Male', 'Male', 'Male', 'Female', 'Female'],\n",
    "    'Date': ['2023-01-01', '2023-01-02', '2023-01-15', '2023-02-01', '2023-01-01', '2023-03-01'],\n",
    "    'Department': ['HR', 'IT', 'IT', 'Finance', 'HR', 'Finance'],\n",
    "    'Has_Passed': [True, False, True, True, True, False],\n",
    "    'Score': [88.5, 92.0, np.nan, 85.0, 88.5, 79.0]\n",
    "}\n",
    "\n",
    "df = pd.DataFrame(data)\n",
    "df"
   ]
  },
  {
   "cell_type": "code",
   "execution_count": 124,
   "id": "7625e5d2",
   "metadata": {},
   "outputs": [
    {
     "name": "stdout",
     "output_type": "stream",
     "text": [
      "            Name   Age  Salary  Gender       Date Department  Has_Passed  \\\n",
      "0    Alice Smith  25.0   50000  Female 2023-01-01         HR        True   \n",
      "1        Bob Lee  30.0   60000    Male 2023-01-02         IT       False   \n",
      "2  Charlie Brown  35.0   70000    Male 2023-01-15         IT        True   \n",
      "3   David Miller  40.0   80000    Male 2023-02-01    Finance        True   \n",
      "4    Alice Smith  25.0   50000  Female 2023-01-01         HR        True   \n",
      "5           None   NaN   90000  Female 2023-03-01    Finance       False   \n",
      "\n",
      "   Score  \n",
      "0   88.5  \n",
      "1   92.0  \n",
      "2    NaN  \n",
      "3   85.0  \n",
      "4   88.5  \n",
      "5   79.0  \n"
     ]
    }
   ],
   "source": [
    "\n",
    "# Convert 'Date' to datetime\n",
    "df['Date'] = pd.to_datetime(df['Date'])\n",
    "print(df)"
   ]
  },
  {
   "cell_type": "code",
   "execution_count": 125,
   "id": "8a04a2f8",
   "metadata": {},
   "outputs": [],
   "source": [
    "# Save to CSV\n",
    "# df.to_csv('test_data.csv', index=False)"
   ]
  },
  {
   "cell_type": "code",
   "execution_count": 126,
   "id": "c93c25c0",
   "metadata": {},
   "outputs": [],
   "source": [
    "# df.to_excel('output.xlsx', index=False)"
   ]
  },
  {
   "cell_type": "markdown",
   "id": "3df24a2e",
   "metadata": {},
   "source": [
    "### **Reading**"
   ]
  },
  {
   "cell_type": "code",
   "execution_count": 127,
   "id": "36af1e03",
   "metadata": {},
   "outputs": [],
   "source": [
    "# df = pd.read_csv('test_data.csv')\n",
    "# print(df.head)"
   ]
  },
  {
   "cell_type": "code",
   "execution_count": 128,
   "id": "9a581b22",
   "metadata": {},
   "outputs": [],
   "source": [
    "# df = pd.read_excel('data.xlsx', sheet_name='Sheet1')"
   ]
  },
  {
   "cell_type": "code",
   "execution_count": 129,
   "id": "a73c970b",
   "metadata": {},
   "outputs": [],
   "source": [
    "# df = pd.read_json('data.json')"
   ]
  },
  {
   "cell_type": "markdown",
   "id": "f8224bc2",
   "metadata": {},
   "source": [
    "#### **Convert 'Gender' column to category type**"
   ]
  },
  {
   "cell_type": "code",
   "execution_count": 130,
   "id": "b255e297",
   "metadata": {},
   "outputs": [
    {
     "name": "stdout",
     "output_type": "stream",
     "text": [
      "   Gender AgeGroup  Income\n",
      "0    Male    20-29   40000\n",
      "1  Female    20-29   42000\n",
      "2    Male    30-39   50000\n",
      "3  Female    30-39   52000\n",
      "4  Female    20-29   43000\n",
      "5    Male    40-49   60000\n"
     ]
    }
   ],
   "source": [
    "\n",
    "import pandas as pd\n",
    "\n",
    "# Sample DataFrame\n",
    "data = {\n",
    "    'Gender': ['Male', 'Female', 'Male', 'Female', 'Female', 'Male'],\n",
    "    'AgeGroup': ['20-29', '20-29', '30-39', '30-39', '20-29', '40-49'],\n",
    "    'Income': [40000, 42000, 50000, 52000, 43000, 60000]\n",
    "}\n",
    "df = pd.DataFrame(data)\n",
    "print(df)"
   ]
  },
  {
   "cell_type": "code",
   "execution_count": 131,
   "id": "c3aef7d5",
   "metadata": {},
   "outputs": [
    {
     "name": "stdout",
     "output_type": "stream",
     "text": [
      "Gender      category\n",
      "AgeGroup      object\n",
      "Income         int64\n",
      "dtype: object\n"
     ]
    }
   ],
   "source": [
    "# Convert 'Gender' column to category type\n",
    "df['Gender'] = df['Gender'].astype('category')\n",
    "print(df.dtypes)"
   ]
  },
  {
   "cell_type": "code",
   "execution_count": 132,
   "id": "7026f0f3",
   "metadata": {},
   "outputs": [
    {
     "name": "stdout",
     "output_type": "stream",
     "text": [
      "Index(['Female', 'Male'], dtype='object')\n",
      "0    1\n",
      "1    0\n",
      "2    1\n",
      "3    0\n",
      "4    0\n",
      "5    1\n",
      "dtype: int8\n"
     ]
    }
   ],
   "source": [
    "# Categories and Codes for the 'Gender' column\n",
    "print(df['Gender'].cat.categories)\n",
    "print(df['Gender'].cat.codes)"
   ]
  },
  {
   "cell_type": "markdown",
   "id": "f946fd6b",
   "metadata": {},
   "source": [
    "#### **convert 'Income' to thousands and create a new column 'Income_K'**"
   ]
  },
  {
   "cell_type": "code",
   "execution_count": 133,
   "id": "121a2e98",
   "metadata": {},
   "outputs": [
    {
     "name": "stdout",
     "output_type": "stream",
     "text": [
      "   Gender AgeGroup  Income  Income_K\n",
      "0    Male    20-29   40000      40.0\n",
      "1  Female    20-29   42000      42.0\n",
      "2    Male    30-39   50000      50.0\n",
      "3  Female    30-39   52000      52.0\n",
      "4  Female    20-29   43000      43.0\n",
      "5    Male    40-49   60000      60.0\n"
     ]
    }
   ],
   "source": [
    "# Apply a function to convert 'Income' to thousands and create a new column 'Income_K'\n",
    "df['Income_K'] = df['Income'].apply(lambda x: x / 1000)\n",
    "print(df)"
   ]
  },
  {
   "cell_type": "markdown",
   "id": "c8225e7a",
   "metadata": {},
   "source": [
    "#### **.map() to create a new column 'AgeGroup' based on 'Age'**"
   ]
  },
  {
   "cell_type": "code",
   "execution_count": 134,
   "id": "e4f89645",
   "metadata": {},
   "outputs": [
    {
     "name": "stdout",
     "output_type": "stream",
     "text": [
      "   Age\n",
      "0   15\n",
      "1   22\n",
      "2   17\n",
      "3   35\n",
      "4   12\n",
      "5   28\n"
     ]
    }
   ],
   "source": [
    "import pandas as pd\n",
    "\n",
    "# Sample DataFrame\n",
    "data = {\n",
    "    'Age': [15, 22, 17, 35, 12, 28]\n",
    "}\n",
    "df = pd.DataFrame(data)\n",
    "print(df)"
   ]
  },
  {
   "cell_type": "code",
   "execution_count": 135,
   "id": "14c11511",
   "metadata": {},
   "outputs": [
    {
     "name": "stdout",
     "output_type": "stream",
     "text": [
      "   Age AgeGroup\n",
      "0   15    Minor\n",
      "1   22    Adult\n",
      "2   17    Minor\n",
      "3   35    Adult\n",
      "4   12    Minor\n",
      "5   28    Adult\n"
     ]
    }
   ],
   "source": [
    "# Using .map() to create a new column 'AgeGroup' based on 'Age'\n",
    "df['AgeGroup'] = df['Age'].map(lambda x: 'Adult' if x >= 18 else 'Minor')\n",
    "print(df)"
   ]
  },
  {
   "cell_type": "markdown",
   "id": "4917f6bc",
   "metadata": {},
   "source": [
    "### **Use .query() for fast filtering**"
   ]
  },
  {
   "cell_type": "code",
   "execution_count": 136,
   "id": "f8c34f7a",
   "metadata": {},
   "outputs": [
    {
     "name": "stdout",
     "output_type": "stream",
     "text": [
      "      Name  Age  Income\n",
      "0    Alice   25   48000\n",
      "1      Bob   35   60000\n",
      "2  Charlie   40   70000\n",
      "3    David   28   52000\n",
      "4      Eve   25   30000\n",
      "5    Frank   35   60000\n"
     ]
    }
   ],
   "source": [
    "# Example DataFrame\n",
    "import pandas as pd\n",
    "\n",
    "data = {\n",
    "    'Name': ['Alice', 'Bob', 'Charlie', 'David', 'Eve', 'Frank'],\n",
    "    'Age': [25, 35, 40, 28, 25, 35],\n",
    "    'Income': [48000, 60000, 70000, 52000, 30000, 60000]\n",
    "}\n",
    "df = pd.DataFrame(data)\n",
    "print(df)"
   ]
  },
  {
   "cell_type": "code",
   "execution_count": 137,
   "id": "090f60f8",
   "metadata": {},
   "outputs": [
    {
     "name": "stdout",
     "output_type": "stream",
     "text": [
      "      Name  Age  Income\n",
      "1      Bob   35   60000\n",
      "2  Charlie   40   70000\n",
      "5    Frank   35   60000\n"
     ]
    }
   ],
   "source": [
    "# Use .query() for fast filtering\n",
    "result = df.query('Age > 30 & Income > 50000')\n",
    "print(result)"
   ]
  },
  {
   "cell_type": "markdown",
   "id": "872cc40b",
   "metadata": {},
   "source": [
    "### **Histogram**"
   ]
  },
  {
   "cell_type": "code",
   "execution_count": 138,
   "id": "93ed7db7",
   "metadata": {},
   "outputs": [
    {
     "data": {
      "image/png": "[encoded data removed]",
      "text/plain": [
       "<Figure size 640x480 with 1 Axes>"
      ]
     },
     "metadata": {},
     "output_type": "display_data"
    }
   ],
   "source": [
    "# Basic Plotting: Histogram of Age\n",
    "import matplotlib.pyplot as plt\n",
    "\n",
    "df['Age'].plot(kind='hist', bins=20, title='Age Distribution')\n",
    "plt.xlabel('Age')\n",
    "plt.ylabel('Frequency')\n",
    "plt.show()"
   ]
  },
  {
   "cell_type": "markdown",
   "id": "156c93f2",
   "metadata": {},
   "source": [
    "#### **line plot**"
   ]
  },
  {
   "cell_type": "code",
   "execution_count": 139,
   "id": "dc0e3067",
   "metadata": {},
   "outputs": [
    {
     "data": {
      "image/png": "[encoded data removed]",
      "text/plain": [
       "<Figure size 640x480 with 1 Axes>"
      ]
     },
     "metadata": {},
     "output_type": "display_data"
    }
   ],
   "source": [
    "import pandas as pd\n",
    "import matplotlib.pyplot as plt\n",
    "\n",
    "# Sample DataFrame for line plot\n",
    "data = {\n",
    "    'Date': ['2023-01-01', '2023-01-02', '2023-01-03', '2023-01-04'],\n",
    "    'Sales': [100, 150, 120, 180]\n",
    "}\n",
    "df = pd.DataFrame(data)\n",
    "df['Date'] = pd.to_datetime(df['Date'])\n",
    "\n",
    "# Line Plot\n",
    "df.plot(x='Date', y='Sales', kind='line', title='Sales Over Time')\n",
    "plt.xlabel('Date')\n",
    "plt.ylabel('Sales')\n",
    "plt.show()"
   ]
  },
  {
   "cell_type": "markdown",
   "id": "aec97542",
   "metadata": {},
   "source": [
    "## **Bar Plot**"
   ]
  },
  {
   "cell_type": "code",
   "execution_count": 140,
   "id": "641753c1",
   "metadata": {},
   "outputs": [
    {
     "data": {
      "image/png": "[encoded data removed]",
      "text/plain": [
       "<Figure size 640x480 with 1 Axes>"
      ]
     },
     "metadata": {},
     "output_type": "display_data"
    }
   ],
   "source": [
    "import pandas as pd\n",
    "import matplotlib.pyplot as plt\n",
    "\n",
    "# Sample DataFrame for bar plot\n",
    "data = {\n",
    "    'Category': ['A', 'B', 'A', 'C', 'B', 'A', 'C', 'B', 'A']\n",
    "}\n",
    "df = pd.DataFrame(data)\n",
    "\n",
    "# Bar Plot: Count of each category\n",
    "df['Category'].value_counts().plot(kind='bar', title='Category Counts')\n",
    "plt.xlabel('Category')\n",
    "plt.ylabel('Count')\n",
    "plt.show()"
   ]
  },
  {
   "cell_type": "markdown",
   "id": "ce19e01e",
   "metadata": {},
   "source": [
    "## **Scatter Plot**"
   ]
  },
  {
   "cell_type": "code",
   "execution_count": 141,
   "id": "d3c6dcec",
   "metadata": {},
   "outputs": [
    {
     "data": {
      "image/png": "[encoded data removed]",
      "text/plain": [
       "<Figure size 640x480 with 1 Axes>"
      ]
     },
     "metadata": {},
     "output_type": "display_data"
    }
   ],
   "source": [
    "import pandas as pd\n",
    "import matplotlib.pyplot as plt\n",
    "\n",
    "# Sample DataFrame for scatter plot\n",
    "data = {\n",
    "    'Age': [25, 35, 40, 28, 25, 35],\n",
    "    'Income': [48000, 60000, 70000, 52000, 30000, 60000]\n",
    "}\n",
    "df = pd.DataFrame(data)\n",
    "\n",
    "# Scatter Plot\n",
    "df.plot.scatter(x='Age', y='Income', title='Age vs Income')\n",
    "plt.xlabel('Age')\n",
    "plt.ylabel('Income')\n",
    "plt.show()"
   ]
  },
  {
   "cell_type": "markdown",
   "id": "1aeaab79",
   "metadata": {},
   "source": [
    "## **Boxplot using seaborn**"
   ]
  },
  {
   "cell_type": "code",
   "execution_count": 142,
   "id": "8bca7483",
   "metadata": {},
   "outputs": [
    {
     "name": "stdout",
     "output_type": "stream",
     "text": [
      "Requirement already satisfied: seaborn in c:\\users\\lenovo\\appdata\\local\\programs\\python\\python313\\lib\\site-packages (0.13.2)\n",
      "Requirement already satisfied: numpy!=1.24.0,>=1.20 in c:\\users\\lenovo\\appdata\\local\\programs\\python\\python313\\lib\\site-packages (from seaborn) (2.2.6)\n",
      "Requirement already satisfied: pandas>=1.2 in c:\\users\\lenovo\\appdata\\local\\programs\\python\\python313\\lib\\site-packages (from seaborn) (2.3.1)\n",
      "Requirement already satisfied: matplotlib!=3.6.1,>=3.4 in c:\\users\\lenovo\\appdata\\local\\programs\\python\\python313\\lib\\site-packages (from seaborn) (3.10.3)\n",
      "Requirement already satisfied: contourpy>=1.0.1 in c:\\users\\lenovo\\appdata\\local\\programs\\python\\python313\\lib\\site-packages (from matplotlib!=3.6.1,>=3.4->seaborn) (1.3.3)\n",
      "Requirement already satisfied: cycler>=0.10 in c:\\users\\lenovo\\appdata\\local\\programs\\python\\python313\\lib\\site-packages (from matplotlib!=3.6.1,>=3.4->seaborn) (0.12.1)\n",
      "Requirement already satisfied: fonttools>=4.22.0 in c:\\users\\lenovo\\appdata\\local\\programs\\python\\python313\\lib\\site-packages (from matplotlib!=3.6.1,>=3.4->seaborn) (4.59.0)\n",
      "Requirement already satisfied: kiwisolver>=1.3.1 in c:\\users\\lenovo\\appdata\\local\\programs\\python\\python313\\lib\\site-packages (from matplotlib!=3.6.1,>=3.4->seaborn) (1.4.8)\n",
      "Requirement already satisfied: packaging>=20.0 in c:\\users\\lenovo\\appdata\\roaming\\python\\python313\\site-packages (from matplotlib!=3.6.1,>=3.4->seaborn) (25.0)\n",
      "Requirement already satisfied: pillow>=8 in c:\\users\\lenovo\\appdata\\local\\programs\\python\\python313\\lib\\site-packages (from matplotlib!=3.6.1,>=3.4->seaborn) (11.3.0)\n",
      "Requirement already satisfied: pyparsing>=2.3.1 in c:\\users\\lenovo\\appdata\\local\\programs\\python\\python313\\lib\\site-packages (from matplotlib!=3.6.1,>=3.4->seaborn) (3.2.3)\n",
      "Requirement already satisfied: python-dateutil>=2.7 in c:\\users\\lenovo\\appdata\\roaming\\python\\python313\\site-packages (from matplotlib!=3.6.1,>=3.4->seaborn) (2.9.0.post0)\n",
      "Requirement already satisfied: pytz>=2020.1 in c:\\users\\lenovo\\appdata\\local\\programs\\python\\python313\\lib\\site-packages (from pandas>=1.2->seaborn) (2025.2)\n",
      "Requirement already satisfied: tzdata>=2022.7 in c:\\users\\lenovo\\appdata\\local\\programs\\python\\python313\\lib\\site-packages (from pandas>=1.2->seaborn) (2025.2)\n",
      "Requirement already satisfied: six>=1.5 in c:\\users\\lenovo\\appdata\\roaming\\python\\python313\\site-packages (from python-dateutil>=2.7->matplotlib!=3.6.1,>=3.4->seaborn) (1.17.0)\n",
      "Note: you may need to restart the kernel to use updated packages.\n"
     ]
    }
   ],
   "source": [
    "pip install seaborn"
   ]
  },
  {
   "cell_type": "code",
   "execution_count": 143,
   "id": "fb2495da",
   "metadata": {},
   "outputs": [
    {
     "data": {
      "image/png": "[encoded data removed]",
      "text/plain": [
       "<Figure size 640x480 with 1 Axes>"
      ]
     },
     "metadata": {},
     "output_type": "display_data"
    }
   ],
   "source": [
    "import pandas as pd\n",
    "import seaborn as sns\n",
    "import matplotlib.pyplot as plt\n",
    "\n",
    "# Sample DataFrame\n",
    "data = {\n",
    "    'Category': ['A', 'B', 'A', 'C', 'B', 'A', 'C', 'B', 'A'],\n",
    "    'Income': [48000, 60000, 70000, 52000, 30000, 60000, 55000, 62000, 58000]\n",
    "}\n",
    "df = pd.DataFrame(data)\n",
    "\n",
    "# Boxplot using seaborn\n",
    "sns.boxplot(x='Category', y='Income', data=df)\n",
    "plt.title('Income Distribution by Category')\n",
    "plt.show()"
   ]
  },
  {
   "cell_type": "code",
   "execution_count": null,
   "id": "1fe5aa10",
   "metadata": {},
   "outputs": [],
   "source": []
  }
 ],
 "metadata": {
  "kernelspec": {
   "display_name": "Python 3",
   "language": "python",
   "name": "python3"
  },
  "language_info": {
   "codemirror_mode": {
    "name": "ipython",
    "version": 3
   },
   "file_extension": ".py",
   "mimetype": "text/x-python",
   "name": "python",
   "nbconvert_exporter": "python",
   "pygments_lexer": "ipython3",
   "version": "3.13.5"
  }
 },
 "nbformat": 4,
 "nbformat_minor": 5
}
